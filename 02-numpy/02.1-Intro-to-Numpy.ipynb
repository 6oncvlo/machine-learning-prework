{
 "cells": [
  {
   "cell_type": "markdown",
   "id": "bdfbcacc",
   "metadata": {},
   "source": [
    "<img src=\"./assets/numpy_logo.png\" alt=\"logo\" width=\"400\"/>\n",
    "\n",
    "## Introduction to numpy\n",
    "\n",
    "NumPy stands for 'Numerical Python'. It is an open-source Python library used to perform various mathematical and scientific tasks. It contains multi-dimensional arrays and matrices, along with many high-level mathematical functions that operate on these arrays and matrices. It contains among other things:\n",
    "\n",
    "→ a powerful N-dimensional array object\n",
    "\n",
    "→ sophisticated (broadcasting) functions\n",
    "\n",
    "→ tools for integrating C/C++ and Fortran code\n",
    "\n",
    "→ useful linear algebra, Fourier transform, and random number capabilities"
   ]
  },
  {
   "cell_type": "markdown",
   "id": "85902746",
   "metadata": {},
   "source": [
    "## Installing NumPy\n",
    "When you want to work with numpy locally, you should run the following commands:\n",
    "\n",
    "You can install NumPy with:\\\n",
    "`pip install numpy`\\\n",
    "or\\\n",
    "`conda install numpy`\n",
    "\n",
    "In our case, 4Geeks have prepared all the environment in order that you can work comfortably."
   ]
  },
  {
   "cell_type": "markdown",
   "id": "58765356",
   "metadata": {},
   "source": [
    "## Why should we use NumPy?\n",
    "\n",
    "Numpy is a library to perform numerical calculation in python. We will use it mainly because it allows us to create and modify matrices, and to do operations on them with ease.\n",
    "\n",
    "NumPy is, like Pandas, Matplotlib or Scikit-Learn, one of the packages that you cannot miss when you are learning Machine Learning, mainly because this library provides a matrix data structure that has some benefits over regular Python lists. Some of these benefits are: being more compact, quicker access to reading and writing articles, being more convenient and more efficient.\n",
    "\n",
    "For example, we will see later in the bootcamp that working with images means dealing with three-dimensional matrices as large as 3840 x 2160, which means we will have 3×3840×2160 = 24883200 entries!!! 😱😱😱.\n",
    "\n",
    "Working with matrices of that magnitude is practically impossible to carry out with lists and dictionaries if one wants to have an efficient and fast programming."
   ]
  },
  {
   "cell_type": "markdown",
   "id": "c4e52ee5",
   "metadata": {},
   "source": [
    "#### Exercise: Import the numpy package under the name `np` (★☆☆)\n",
    "\n",
    "`numpy` is commonly imported as `np` so we highly recommend to put this alias."
   ]
  },
  {
   "cell_type": "code",
   "execution_count": 7,
   "id": "ea3038d9",
   "metadata": {},
   "outputs": [],
   "source": [
    "import numpy as np"
   ]
  },
  {
   "cell_type": "markdown",
   "id": "40631cd6",
   "metadata": {},
   "source": [
    "## What is an array and why it is importante for machine learning?\n",
    "\n",
    "An array is a data structure consisting of a collection of elements (values or variables), each identified by at least one array index or key.\n"
   ]
  },
  {
   "cell_type": "markdown",
   "id": "ce969254",
   "metadata": {},
   "source": [
    "![alt text](assets/1D.png \"1D\")"
   ]
  },
  {
   "cell_type": "markdown",
   "id": "735d02e2",
   "metadata": {},
   "source": [
    "We can have arrays from several dimension. Neural networks sometimes deal with 4D arrays. An array is known as the central data structure of the NumPy library. Array in NumPy is called as NumPy Array. Later, we will use also other kind of arrays thar are called: Tensors."
   ]
  },
  {
   "cell_type": "markdown",
   "id": "a20ce3a4",
   "metadata": {},
   "source": [
    "![alt text](./assets/3D.png \"3D\")"
   ]
  },
  {
   "cell_type": "markdown",
   "id": "46950f4f",
   "metadata": {},
   "source": [
    "#### Exercise: Print the numpy version and the configuration (★☆☆)\n",
    "\n",
    "You can print the version of any package of Python using `name_of_package.__version__`"
   ]
  },
  {
   "cell_type": "code",
   "execution_count": null,
   "id": "2a9f5838",
   "metadata": {},
   "outputs": [
    {
     "name": "stdout",
     "output_type": "stream",
     "text": [
      "1.21.3\n"
     ]
    }
   ],
   "source": [
    "import numpy as np\n",
    "print(np.__version__)"
   ]
  },
  {
   "cell_type": "markdown",
   "id": "e3c20b3d",
   "metadata": {},
   "source": [
    "#### Exercise: Create a null vector of size 10 (★☆☆)\n",
    "\n",
    "A `null vector` is an array of zeros (`0`), also called `inicializacion vector`.\n",
    "\n",
    "Check de function `np.zeros` (https://numpy.org/doc/stable/reference/generated/numpy.zeros.html)"
   ]
  },
  {
   "cell_type": "code",
   "execution_count": null,
   "id": "8a758bcf",
   "metadata": {},
   "outputs": [
    {
     "data": {
      "text/plain": [
       "array([], dtype=float64)"
      ]
     },
     "execution_count": 9,
     "metadata": {},
     "output_type": "execute_result"
    }
   ],
   "source": [
    "np.zeros(0)"
   ]
  },
  {
   "cell_type": "markdown",
   "id": "6cbe7954",
   "metadata": {},
   "source": [
    "#### Exercise: Create a vector of ones with size 10 (★☆☆)\n",
    "Check de function `np.ones` (https://numpy.org/doc/stable/reference/generated/numpy.ones.html)"
   ]
  },
  {
   "cell_type": "code",
   "execution_count": null,
   "id": "86477874",
   "metadata": {},
   "outputs": [
    {
     "data": {
      "text/plain": [
       "array([1., 1., 1., 1., 1., 1., 1., 1., 1., 1.])"
      ]
     },
     "execution_count": 10,
     "metadata": {},
     "output_type": "execute_result"
    }
   ],
   "source": [
    "np.ones(10)"
   ]
  },
  {
   "cell_type": "markdown",
   "id": "0a708990",
   "metadata": {},
   "source": [
    "#### Exercise: Create an 1D array with specific start value, end value and number of values (★☆☆)\n",
    "\n",
    "Check the function `np.linspace` (https://numpy.org/doc/stable/reference/generated/numpy.linspace.html)"
   ]
  },
  {
   "cell_type": "code",
   "execution_count": null,
   "id": "477e01f4",
   "metadata": {},
   "outputs": [
    {
     "data": {
      "text/plain": [
       "array([1.        , 1.11111111, 1.22222222, 1.33333333, 1.44444444,\n",
       "       1.55555556, 1.66666667, 1.77777778, 1.88888889, 2.        ])"
      ]
     },
     "execution_count": 11,
     "metadata": {},
     "output_type": "execute_result"
    }
   ],
   "source": [
    "np.linspace(1,2,10)"
   ]
  },
  {
   "cell_type": "markdown",
   "id": "782d4c77",
   "metadata": {},
   "source": [
    "#### Run: Create a vector (1D array) with random integers from 10 to 49 and dimension 1x35 (★☆☆)\n",
    "\n",
    "When `dimension` is expressed `1x35` it means: One dimension array with 35 items (length=35).\n",
    "\n",
    "Check the function `np.random` which allows you to create random arrays (https://numpy.org/doc/1.16/reference/routines.random.html)"
   ]
  },
  {
   "cell_type": "code",
   "execution_count": null,
   "id": "5dbe1a08",
   "metadata": {},
   "outputs": [
    {
     "name": "stdout",
     "output_type": "stream",
     "text": [
      "[0.95625101 0.46980614 0.80157953 0.79762784 0.67327667 0.42400419\n",
      " 0.40437389 0.58845834 0.58894057 0.40771583]\n"
     ]
    }
   ],
   "source": [
    "import numpy as np\n",
    "\n",
    "## 10 random numbers between (0, 1)\n",
    "print(np.random.random(10)) "
   ]
  },
  {
   "cell_type": "code",
   "execution_count": null,
   "id": "a9354456",
   "metadata": {},
   "outputs": [
    {
     "name": "stdout",
     "output_type": "stream",
     "text": [
      "[0.56168108 0.24748839 0.53761307 0.97091848 0.79245561 0.22161239\n",
      " 0.69350801 0.48000351 0.18968002 0.32187232]\n",
      "[ 0.94209455 -1.64272316  0.56620792  2.10585027 -0.90969019  0.15682171\n",
      " -0.58121318  0.13185223  1.72316188 -0.35960136]\n"
     ]
    }
   ],
   "source": [
    "## Two ways to create numbers with normal distribution\n",
    "print(np.random.rand(10)) # 10 random values with distribution N(0,1)\n",
    "print(np.random.normal(loc = 0, scale = 1, size = 10)) # 10 random values with distribution N(0,1)"
   ]
  },
  {
   "cell_type": "code",
   "execution_count": null,
   "id": "73ed6271",
   "metadata": {},
   "outputs": [],
   "source": [
    "## Did you notice the difference between both functions? \n",
    "print(np.random.normal(loc = -5, scale = 33, size = 10)) # 10 random values with distribution N(-5,33)"
   ]
  },
  {
   "cell_type": "code",
   "execution_count": null,
   "id": "49ae7a5a",
   "metadata": {},
   "outputs": [],
   "source": [
    "## 10 random values with uniform distribution. That is, all values have the same probability\n",
    "print(np.random.uniform(-30,100,10)) # All values are between -30 and 100."
   ]
  },
  {
   "cell_type": "code",
   "execution_count": null,
   "id": "f78e72cb",
   "metadata": {},
   "outputs": [],
   "source": [
    "# 10 integers values between 0 and 100.\n",
    "print(np.random.randint(0, 100, 10))"
   ]
  },
  {
   "cell_type": "code",
   "execution_count": null,
   "id": "db278431",
   "metadata": {},
   "outputs": [],
   "source": [
    "# 10 random values with Chi distribution with 5 degrees of freedom\n",
    "print(np.random.chisquare(5,10))"
   ]
  },
  {
   "cell_type": "markdown",
   "id": "1b7841da",
   "metadata": {},
   "source": [
    "The above examples are the most common distribution and random values you will learn throughout the bootcamp. Now, let's deal with those arrays."
   ]
  },
  {
   "cell_type": "markdown",
   "id": "48d48f01",
   "metadata": {},
   "source": [
    "#### Exercise: Reverse one of the last vector we created before (first element becomes last) (★☆☆)\n",
    "Try with `[::-1]`"
   ]
  },
  {
   "cell_type": "code",
   "execution_count": null,
   "id": "3ed233e7",
   "metadata": {},
   "outputs": [
    {
     "name": "stdout",
     "output_type": "stream",
     "text": [
      "[0.93752439 0.56904117 0.59969893 0.12840305 0.46830694 0.96498134\n",
      " 0.06663914 0.22769741 0.0775815  0.2513991 ]\n",
      "[0.2513991  0.0775815  0.22769741 0.06663914 0.96498134 0.46830694\n",
      " 0.12840305 0.59969893 0.56904117 0.93752439]\n"
     ]
    }
   ],
   "source": [
    "l=np.random.random(10)\n",
    "print(l)\n",
    "print(l[::-1])\n"
   ]
  },
  {
   "cell_type": "markdown",
   "id": "4fa39382",
   "metadata": {},
   "source": [
    "#### Exercise: Create a 5x5 identidy matrix (★☆☆)\n",
    "Check the function `np.eye`(https://numpy.org/devdocs/reference/generated/numpy.eye.html)"
   ]
  },
  {
   "cell_type": "code",
   "execution_count": null,
   "id": "c97757ec",
   "metadata": {},
   "outputs": [
    {
     "data": {
      "text/plain": [
       "array([[1., 0., 0., 0., 0.],\n",
       "       [0., 1., 0., 0., 0.],\n",
       "       [0., 0., 1., 0., 0.],\n",
       "       [0., 0., 0., 1., 0.],\n",
       "       [0., 0., 0., 0., 1.]])"
      ]
     },
     "execution_count": 6,
     "metadata": {},
     "output_type": "execute_result"
    }
   ],
   "source": [
    "np.eye(5)"
   ]
  },
  {
   "cell_type": "markdown",
   "id": "da64551a",
   "metadata": {},
   "source": [
    "#### Exercise: Find indices of non-zero elements from [1,2,0,0,4,0] (★☆☆)\n",
    "Check the function `where`(https://numpy.org/devdocs/reference/generated/numpy.where.html)"
   ]
  },
  {
   "cell_type": "code",
   "execution_count": null,
   "id": "327f7adb",
   "metadata": {},
   "outputs": [
    {
     "data": {
      "text/plain": [
       "(array([0, 1, 4]),)"
      ]
     },
     "execution_count": 7,
     "metadata": {},
     "output_type": "execute_result"
    }
   ],
   "source": [
    "l=[1,2,0,0,4,0]\n",
    "np.nonzero(l)"
   ]
  },
  {
   "cell_type": "markdown",
   "id": "13c5928c",
   "metadata": {},
   "source": [
    "#### Exercise: Create a 10x10 array with random values and find the minimum and maximum values (★☆☆)\n",
    "Check the function `min`(https://numpy.org/devdocs/reference/generated/numpy.where.html) and `max`(https://numpy.org/devdocs/reference/generated/numpy.max.html)"
   ]
  },
  {
   "cell_type": "code",
   "execution_count": null,
   "id": "911c9b93",
   "metadata": {},
   "outputs": [
    {
     "name": "stdout",
     "output_type": "stream",
     "text": [
      "0.0031417499353226797 0.9929609608453179\n"
     ]
    }
   ],
   "source": [
    "l=np.random.random((10,10))\n",
    "print(np.min(l), np.max(l))"
   ]
  },
  {
   "cell_type": "markdown",
   "id": "3fa2e461",
   "metadata": {},
   "source": [
    "#### Exercise: Create a random vector of size 30 and find the mean value (★☆☆)"
   ]
  },
  {
   "cell_type": "code",
   "execution_count": null,
   "id": "323eb38a",
   "metadata": {},
   "outputs": [
    {
     "data": {
      "text/plain": [
       "0.584838458615469"
      ]
     },
     "execution_count": 19,
     "metadata": {},
     "output_type": "execute_result"
    }
   ],
   "source": [
    "k=np.random.random(30)\n",
    "sum(k)/len(k)"
   ]
  },
  {
   "cell_type": "markdown",
   "id": "961f074f",
   "metadata": {},
   "source": [
    "#### Exercise: Define a function with input your date of birth (yyyy/mm/dd) that returns a random array with the following dimensions: (★★☆)\n",
    "$$yyyy-1900 \\times |mm - dd|$$"
   ]
  },
  {
   "cell_type": "code",
   "execution_count": null,
   "id": "d3f49255",
   "metadata": {},
   "outputs": [
    {
     "name": "stdout",
     "output_type": "stream",
     "text": [
      "[[0.71486651 0.6041739  0.64872384]\n",
      " [0.99393243 0.62483415 0.06793588]\n",
      " [0.84239276 0.65971243 0.09257614]\n",
      " [0.12581257 0.34644912 0.67733204]\n",
      " [0.4380619  0.46137066 0.86215208]\n",
      " [0.81797934 0.78676884 0.2860214 ]\n",
      " [0.86741908 0.64087491 0.05857514]\n",
      " [0.90851276 0.78945658 0.37603703]\n",
      " [0.04871491 0.82014126 0.20425434]\n",
      " [0.99900929 0.72052973 0.42728843]\n",
      " [0.79407398 0.78737437 0.64761219]\n",
      " [0.14287883 0.35822705 0.03383838]\n",
      " [0.10898181 0.91131383 0.02149887]\n",
      " [0.11208943 0.85566063 0.6728659 ]\n",
      " [0.13993329 0.50052614 0.80561249]\n",
      " [0.40026991 0.23732226 0.90258345]\n",
      " [0.6086267  0.24741214 0.85272026]\n",
      " [0.28170283 0.85750213 0.48066621]\n",
      " [0.55070105 0.18682352 0.76464756]\n",
      " [0.16644796 0.17026903 0.2901511 ]\n",
      " [0.8567677  0.42684378 0.7809112 ]\n",
      " [0.48233638 0.32151389 0.90338189]\n",
      " [0.75192535 0.62859643 0.12112642]\n",
      " [0.58796532 0.31122766 0.12974821]\n",
      " [0.30556413 0.83558879 0.33445397]\n",
      " [0.93880342 0.42161254 0.75617716]\n",
      " [0.90873035 0.69716622 0.12139478]\n",
      " [0.26233243 0.22548901 0.70098178]\n",
      " [0.05047884 0.95329302 0.89182671]\n",
      " [0.19345325 0.22221555 0.87246242]\n",
      " [0.73872025 0.10273025 0.3277907 ]\n",
      " [0.83946626 0.45495129 0.14606968]\n",
      " [0.56093269 0.02085898 0.9104862 ]\n",
      " [0.14553695 0.76500166 0.90190961]\n",
      " [0.50956544 0.62992219 0.33418675]\n",
      " [0.08052403 0.291922   0.91024736]\n",
      " [0.11490067 0.99228326 0.58540758]\n",
      " [0.7790174  0.84322054 0.88178432]\n",
      " [0.66668308 0.37196739 0.62663768]\n",
      " [0.98052581 0.4453701  0.96691579]\n",
      " [0.27195757 0.23541859 0.51662217]\n",
      " [0.00626832 0.61738814 0.41032022]\n",
      " [0.93134797 0.37592722 0.54736635]\n",
      " [0.53424883 0.18256758 0.31025463]\n",
      " [0.3648938  0.57843673 0.74613506]\n",
      " [0.84770648 0.43726123 0.48770121]\n",
      " [0.94225331 0.8777091  0.58206254]\n",
      " [0.31858414 0.40279243 0.12412541]\n",
      " [0.09946313 0.61714554 0.35033613]\n",
      " [0.8745233  0.03870197 0.97647142]\n",
      " [0.16241098 0.42725218 0.08980869]\n",
      " [0.89501894 0.58322765 0.85939929]\n",
      " [0.94643462 0.60647333 0.70155741]\n",
      " [0.77608648 0.7262804  0.78433465]\n",
      " [0.26763684 0.45330594 0.03222293]\n",
      " [0.14399587 0.26490148 0.96676995]\n",
      " [0.07994269 0.32633192 0.24061028]\n",
      " [0.5935983  0.11589358 0.44054985]\n",
      " [0.71525584 0.57453422 0.62412026]\n",
      " [0.62838438 0.26993324 0.72079799]\n",
      " [0.92272696 0.60779453 0.45146874]\n",
      " [0.69606698 0.03153963 0.81580867]\n",
      " [0.44530521 0.79799729 0.02251847]\n",
      " [0.12793093 0.41593698 0.52984786]\n",
      " [0.14363365 0.91477724 0.67397093]\n",
      " [0.54104803 0.24440852 0.28130568]\n",
      " [0.72051545 0.94942917 0.89936906]\n",
      " [0.42572913 0.5043812  0.13811694]\n",
      " [0.96974857 0.71675889 0.9021727 ]\n",
      " [0.00785506 0.95153542 0.53500312]\n",
      " [0.84517984 0.96658974 0.91331923]\n",
      " [0.167461   0.91694643 0.55500883]\n",
      " [0.13435961 0.43160341 0.30249746]\n",
      " [0.06428924 0.34631593 0.2923144 ]\n",
      " [0.92791426 0.97102852 0.09224833]\n",
      " [0.83781331 0.19925699 0.8355102 ]\n",
      " [0.17603102 0.18208479 0.11624774]\n",
      " [0.28402886 0.90133147 0.06321824]\n",
      " [0.7833291  0.00583683 0.521055  ]\n",
      " [0.35207148 0.5793407  0.99647487]\n",
      " [0.47474154 0.95971247 0.81222574]\n",
      " [0.41797271 0.43051095 0.88416088]\n",
      " [0.16811618 0.31522099 0.6530891 ]\n",
      " [0.75701788 0.43728266 0.83514653]\n",
      " [0.86645913 0.61559321 0.93703668]\n",
      " [0.66142709 0.82968801 0.81422386]\n",
      " [0.52187645 0.15483765 0.6218732 ]\n",
      " [0.00293655 0.95455976 0.98922464]\n",
      " [0.39517945 0.76792095 0.98249064]\n",
      " [0.30023935 0.5204091  0.13628139]\n",
      " [0.97775468 0.92594132 0.49863477]\n",
      " [0.88422235 0.1869005  0.86805485]\n",
      " [0.27451169 0.79978779 0.35077529]\n",
      " [0.92463565 0.54408557 0.57919072]\n",
      " [0.99352119 0.15291334 0.32842911]\n",
      " [0.89290706 0.53179999 0.41804219]\n",
      " [0.47005117 0.79788157 0.61131849]\n",
      " [0.92598158 0.65092948 0.45472901]\n",
      " [0.37942963 0.54561072 0.28910829]]\n"
     ]
    }
   ],
   "source": [
    "def f1(x):\n",
    "    s=x.split(\"/\")\n",
    "    l=int(s[0])-1900\n",
    "    c=abs(int(s[1])-int(s[2]))\n",
    "    return np.random.random((l,c))\n",
    "\n",
    "print(f1(\"1999/03/06\"))"
   ]
  },
  {
   "cell_type": "markdown",
   "id": "ff8dbb92",
   "metadata": {},
   "source": [
    "## What is the difference between Python List and a Numpy Array?\n",
    "\n",
    "- Python list can contain elements with different data types whereas Numpy Array‘s elements are always homogeneous (same data types).\n",
    "- NumPy arrays are faster and more compact than Python lists.\n",
    "\n",
    "## Why NumPy Arrays are faster than Lists?\n",
    "\n",
    "- NumPy Array uses fixed memory to store data and less memory than Python lists.\n",
    "- Contiguous memory allocation in NumPy Arrays."
   ]
  },
  {
   "cell_type": "markdown",
   "id": "e3a7ba7f",
   "metadata": {},
   "source": [
    "#### Exercise: Convert the list `my_list = [1, 2, 3]` to numpy array (★☆☆)"
   ]
  },
  {
   "cell_type": "code",
   "execution_count": null,
   "id": "01d8e257",
   "metadata": {},
   "outputs": [
    {
     "data": {
      "text/plain": [
       "array([1, 2, 3])"
      ]
     },
     "execution_count": 23,
     "metadata": {},
     "output_type": "execute_result"
    }
   ],
   "source": [
    "my_list=[1,2,3]\n",
    "np.array(my_list)"
   ]
  },
  {
   "cell_type": "markdown",
   "id": "6d17ab5d",
   "metadata": {},
   "source": [
    "#### Exercise: Convert the tuple `my_list = (1, 2, 3)` to numpy array (★☆☆)"
   ]
  },
  {
   "cell_type": "code",
   "execution_count": null,
   "id": "841373cd",
   "metadata": {},
   "outputs": [
    {
     "data": {
      "text/plain": [
       "array([1, 2, 3])"
      ]
     },
     "execution_count": 37,
     "metadata": {},
     "output_type": "execute_result"
    }
   ],
   "source": [
    "my_list=(1,2,3)\n",
    "np.array(my_list)"
   ]
  },
  {
   "cell_type": "markdown",
   "id": "8837119b",
   "metadata": {},
   "source": [
    "#### Exercise: Convert the list of tuples `my_list = [(1,2,3), (4,5)]` to numpy array (★☆☆)"
   ]
  },
  {
   "cell_type": "code",
   "execution_count": null,
   "id": "2c0d16f1",
   "metadata": {},
   "outputs": [
    {
     "data": {
      "text/plain": [
       "array([(1, 2, 3), (4, 5)], dtype=object)"
      ]
     },
     "execution_count": 38,
     "metadata": {},
     "output_type": "execute_result"
    }
   ],
   "source": [
    "my_list=[(1,2,3),(4,5)]\n",
    "np.array(my_list,dtype=object)"
   ]
  },
  {
   "cell_type": "markdown",
   "id": "ec788c9f",
   "metadata": {},
   "source": [
    "#### Exercise: Resize a random array of dimensions 5x12 into 12x5 (★☆☆)\n",
    "Check `reshape`from `numpy`(https://numpy.org/doc/stable/reference/generated/numpy.reshape.html)"
   ]
  },
  {
   "cell_type": "code",
   "execution_count": null,
   "id": "0a4f919f",
   "metadata": {},
   "outputs": [
    {
     "name": "stdout",
     "output_type": "stream",
     "text": [
      "[[0.12540767 0.01247162 0.04756676 0.74855328 0.70781309 0.82842471\n",
      "  0.46287585 0.93931266 0.62833766 0.75266078 0.24430529 0.32336183]\n",
      " [0.58138648 0.28094395 0.53529564 0.90579506 0.94496817 0.05557448\n",
      "  0.21904576 0.40206978 0.73580729 0.36543021 0.88108956 0.80502847]\n",
      " [0.14542969 0.88050191 0.29743866 0.02120947 0.56291674 0.62958317\n",
      "  0.57174031 0.98172246 0.62596772 0.3766809  0.6806536  0.89747058]\n",
      " [0.37295969 0.59529339 0.03379594 0.00375465 0.53391874 0.75525161\n",
      "  0.75037548 0.64663607 0.36432597 0.44377478 0.07083654 0.67057788]\n",
      " [0.79346979 0.2644409  0.84264719 0.219064   0.41208524 0.62550179\n",
      "  0.98288481 0.8267844  0.76568319 0.53636924 0.11290854 0.22731278]]\n"
     ]
    },
    {
     "data": {
      "text/plain": [
       "array([[0.12540767, 0.01247162, 0.04756676, 0.74855328, 0.70781309],\n",
       "       [0.82842471, 0.46287585, 0.93931266, 0.62833766, 0.75266078],\n",
       "       [0.24430529, 0.32336183, 0.58138648, 0.28094395, 0.53529564],\n",
       "       [0.90579506, 0.94496817, 0.05557448, 0.21904576, 0.40206978],\n",
       "       [0.73580729, 0.36543021, 0.88108956, 0.80502847, 0.14542969],\n",
       "       [0.88050191, 0.29743866, 0.02120947, 0.56291674, 0.62958317],\n",
       "       [0.57174031, 0.98172246, 0.62596772, 0.3766809 , 0.6806536 ],\n",
       "       [0.89747058, 0.37295969, 0.59529339, 0.03379594, 0.00375465],\n",
       "       [0.53391874, 0.75525161, 0.75037548, 0.64663607, 0.36432597],\n",
       "       [0.44377478, 0.07083654, 0.67057788, 0.79346979, 0.2644409 ],\n",
       "       [0.84264719, 0.219064  , 0.41208524, 0.62550179, 0.98288481],\n",
       "       [0.8267844 , 0.76568319, 0.53636924, 0.11290854, 0.22731278]])"
      ]
     },
     "execution_count": 43,
     "metadata": {},
     "output_type": "execute_result"
    }
   ],
   "source": [
    "l=np.random.random((5,12))\n",
    "print(l)\n",
    "np.reshape(l,(12,5))"
   ]
  },
  {
   "cell_type": "markdown",
   "id": "391791e0",
   "metadata": {},
   "source": [
    "#### Exercise: Create a function that normalize a 5x5 random matrix (★☆☆)\n",
    "Remember from probability (https://en.wikipedia.org/wiki/Normalization_(statistics)) that :\n",
    "$$ x_{norm} = \\frac{x - \\bar{x}}{\\sigma}$$\n"
   ]
  },
  {
   "cell_type": "code",
   "execution_count": null,
   "id": "f6533d39",
   "metadata": {},
   "outputs": [
    {
     "name": "stdout",
     "output_type": "stream",
     "text": [
      "[[0.41997436 0.78388119 0.43103309 0.04297319 0.21157947]\n",
      " [0.03580847 0.18459095 0.48610535 0.36732833 0.22040627]\n",
      " [0.60265417 0.23453554 0.33767903 0.36662543 0.71759062]\n",
      " [0.25957001 0.76791723 0.40812478 0.15561474 0.88803375]\n",
      " [0.39448541 0.95501454 0.26668743 0.25975523 0.20596351]]\n",
      "[[ 0.07979374  1.54506936  0.12432186 -1.43820647 -0.75931103]\n",
      " [-1.46705531 -0.86798068  0.34607103 -0.13218623 -0.72376983]\n",
      " [ 0.81535639 -0.66687812 -0.2515695  -0.13501647  1.27814951]\n",
      " [-0.56607651  1.48079025  0.03208122 -0.98465378  1.96444101]\n",
      " [-0.02283786  2.23414006 -0.53741812 -0.56533073 -0.7819238 ]]\n"
     ]
    }
   ],
   "source": [
    "def f2():\n",
    "    l=np.random.random((5,5))\n",
    "    m=np.mean(l)\n",
    "    s=np.std(l)\n",
    "    r0=np.where(l>1,l,(l-m)/s)\n",
    "    print(l)\n",
    "    return r0\n",
    "\n",
    "print(f2())"
   ]
  },
  {
   "cell_type": "markdown",
   "id": "d2d143f1",
   "metadata": {},
   "source": [
    "## Stacking numpy arrays\n",
    "\n",
    "Stacking is used to join a sequence of same dimension arrays along a new axis.\n",
    "`numpy.stack(arrays,axis)` : It returns a stacked array of the input arrays which has one more dimension than the input arrays.\n",
    "\n",
    "### You have two ways to do it:\n",
    "\n",
    "\n",
    "![alt text](./assets/stack.jpeg \"stack\")\n",
    "\n",
    "\n",
    "### or\n",
    "\n",
    "\n",
    "![alt text](./assets/stack2.jpeg \"stack\")\n",
    "\n",
    "\n"
   ]
  },
  {
   "cell_type": "markdown",
   "id": "1e74d39e",
   "metadata": {},
   "source": [
    "#### Exercise: Generate two random arrays with integers and apply the stacking using `stack` (★★☆)"
   ]
  },
  {
   "cell_type": "code",
   "execution_count": null,
   "id": "3f639d33",
   "metadata": {},
   "outputs": [
    {
     "data": {
      "text/plain": [
       "array([[[141, 390, 966],\n",
       "        [310, 223, 255]],\n",
       "\n",
       "       [[787, 549, 960],\n",
       "        [627, 852, 506]]])"
      ]
     },
     "execution_count": 81,
     "metadata": {},
     "output_type": "execute_result"
    }
   ],
   "source": [
    "l1=np.random.randint(low=1000,size=(2,3))\n",
    "l2=np.random.randint(low=1000,size=(2,3))\n",
    "np.stack((l1,l2))"
   ]
  },
  {
   "cell_type": "markdown",
   "id": "78250c14",
   "metadata": {},
   "source": [
    "#### Exercise: Generate two random arrays with integers and apply the stacking using `hstack` and `vstack` (★★☆)"
   ]
  },
  {
   "cell_type": "code",
   "execution_count": null,
   "id": "9fe729cb",
   "metadata": {},
   "outputs": [
    {
     "name": "stdout",
     "output_type": "stream",
     "text": [
      "[[793 990 598 977 554]\n",
      " [171 894 693 554 792]] [[469 271 696]\n",
      " [ 24 114 565]]\n",
      "[[891 780]\n",
      " [108 655]\n",
      " [145  36]\n",
      " [258 329]\n",
      " [105 339]] [[  5 712]\n",
      " [776 442]\n",
      " [842 511]]\n"
     ]
    },
    {
     "data": {
      "text/plain": [
       "array([[891, 780],\n",
       "       [108, 655],\n",
       "       [145,  36],\n",
       "       [258, 329],\n",
       "       [105, 339],\n",
       "       [  5, 712],\n",
       "       [776, 442],\n",
       "       [842, 511]])"
      ]
     },
     "execution_count": 89,
     "metadata": {},
     "output_type": "execute_result"
    }
   ],
   "source": [
    "l1=np.random.randint(low=1000,size=(2,5))\n",
    "l2=np.random.randint(low=1000,size=(2,3))\n",
    "print(l1,l2)\n",
    "np.hstack((l1,l2))\n",
    "\n",
    "l1=np.random.randint(low=1000,size=(5,2))\n",
    "l2=np.random.randint(low=1000,size=(3,2))\n",
    "print(l1,l2)\n",
    "np.vstack((l1,l2))"
   ]
  },
  {
   "cell_type": "markdown",
   "id": "51898680",
   "metadata": {},
   "source": [
    "## Basic maths in numpy\n",
    "\n",
    "You can make typical math operations like:\n",
    "\n",
    "- Addition,Subtraction,Multiplication and Division between two arrays using numpy.\n",
    "- Operation on array using sum() & cumsum() function.\n",
    "- Minimum and Maximum value from an array\n",
    "- Exponent/Power , Square Root and Cube Root functions\n",
    "\n",
    "or even apply common trigonometric functions:\n",
    "\n",
    "- `numpy.sin()`:  Sine (x) Function\n",
    "- `numpy.cos()`: Cosine(x) Function\n",
    "- `numpy.tan()`: Tangent(x)Function\n",
    "- `numpy.sinh()`: Hyperbolic Sine (x) Function\n",
    "- `numpy.cosh()`: Hyperbolic Cosine(x) Functionv\n",
    "- `numpy.tanh()`: Hyperbolic Tangent(x)Function\n",
    "- `numpy.arcsin()`: Inverse Sine Function\n",
    "- `numpy.arccos()`: Inverse Cosine Function\n",
    "- `numpy.arctan()`: Inverse Tangent Function\n",
    "- `numpy.pi`: pi value\n",
    "- `numpy.hypot(w,h)`: For calculating Hypotenuse $c = \\sqrt{(w^2 + h^2)}$\n",
    "- `numpy.rad2deg()`: Radians to degrees\n",
    "- `numpy.deg2rad()`: Degrees to radians"
   ]
  },
  {
   "cell_type": "markdown",
   "id": "89e78048",
   "metadata": {},
   "source": [
    "#### Exercise: Generate two random 8 - dimensional vectors and apply the most common operation between vectors:  addition, substraction, multiplication, division(★☆☆)\n",
    "\n",
    "Check the math functions here: https://numpy.org/doc/stable/reference/routines.math.html"
   ]
  },
  {
   "cell_type": "code",
   "execution_count": null,
   "id": "b62e9d1c",
   "metadata": {},
   "outputs": [
    {
     "name": "stdout",
     "output_type": "stream",
     "text": [
      "[2 6 9 1 2 3 3 6] [5 7 3 1 4 4 2 8]\n"
     ]
    },
    {
     "data": {
      "text/plain": [
       "array([0.4       , 0.85714286, 3.        , 1.        , 0.5       ,\n",
       "       0.75      , 1.5       , 0.75      ])"
      ]
     },
     "execution_count": 100,
     "metadata": {},
     "output_type": "execute_result"
    }
   ],
   "source": [
    "l1=np.random.randint(1,10,8)\n",
    "l2=np.random.randint(1,10,8)\n",
    "print(l1,l2)\n",
    "np.add(l1,l2)\n",
    "np.add(l1,np.negative(l2))\n",
    "np.multiply(l1,l2)\n",
    " np.divide(l1,l2)"
   ]
  },
  {
   "cell_type": "markdown",
   "id": "ebd10810",
   "metadata": {},
   "source": [
    "#### Exercise: Generate two random matrices with dimensions between 5 and 10, e.g. 5x7 vs 8x9 and try. Were you able to do the matrix multiplication? why? (★★☆) "
   ]
  },
  {
   "cell_type": "code",
   "execution_count": null,
   "id": "6ada209f",
   "metadata": {},
   "outputs": [
    {
     "ename": "ValueError",
     "evalue": "operands could not be broadcast together with shapes (6,7) (7,7) ",
     "output_type": "error",
     "traceback": [
      "\u001b[0;31m---------------------------------------------------------------------------\u001b[0m",
      "\u001b[0;31mValueError\u001b[0m                                Traceback (most recent call last)",
      "\u001b[0;32m/tmp/ipykernel_1043/2935801362.py\u001b[0m in \u001b[0;36m<module>\u001b[0;34m\u001b[0m\n\u001b[1;32m      1\u001b[0m \u001b[0ml1\u001b[0m\u001b[0;34m=\u001b[0m\u001b[0mnp\u001b[0m\u001b[0;34m.\u001b[0m\u001b[0mrandom\u001b[0m\u001b[0;34m.\u001b[0m\u001b[0mrandom\u001b[0m\u001b[0;34m(\u001b[0m\u001b[0;34m(\u001b[0m\u001b[0;36m6\u001b[0m\u001b[0;34m,\u001b[0m\u001b[0;36m7\u001b[0m\u001b[0;34m)\u001b[0m\u001b[0;34m)\u001b[0m\u001b[0;34m\u001b[0m\u001b[0;34m\u001b[0m\u001b[0m\n\u001b[1;32m      2\u001b[0m \u001b[0ml2\u001b[0m\u001b[0;34m=\u001b[0m\u001b[0mnp\u001b[0m\u001b[0;34m.\u001b[0m\u001b[0mrandom\u001b[0m\u001b[0;34m.\u001b[0m\u001b[0mrandom\u001b[0m\u001b[0;34m(\u001b[0m\u001b[0;34m(\u001b[0m\u001b[0;36m7\u001b[0m\u001b[0;34m,\u001b[0m\u001b[0;36m7\u001b[0m\u001b[0;34m)\u001b[0m\u001b[0;34m)\u001b[0m\u001b[0;34m\u001b[0m\u001b[0;34m\u001b[0m\u001b[0m\n\u001b[0;32m----> 3\u001b[0;31m \u001b[0mnp\u001b[0m\u001b[0;34m.\u001b[0m\u001b[0mmultiply\u001b[0m\u001b[0;34m(\u001b[0m\u001b[0ml1\u001b[0m\u001b[0;34m,\u001b[0m\u001b[0ml2\u001b[0m\u001b[0;34m)\u001b[0m\u001b[0;34m\u001b[0m\u001b[0;34m\u001b[0m\u001b[0m\n\u001b[0m",
      "\u001b[0;31mValueError\u001b[0m: operands could not be broadcast together with shapes (6,7) (7,7) "
     ]
    }
   ],
   "source": [
    "l1=np.random.random((6,7))\n",
    "l2=np.random.random((7,7))\n",
    "np.multiply(l1,l2)\n",
    "\n",
    "#no, to be able to do the matrix multiplication(not the usual one!) is necessary that both matrices have the same size"
   ]
  },
  {
   "cell_type": "markdown",
   "id": "c0e940f8",
   "metadata": {},
   "source": [
    "#### Exercise: Given 2 numpy arrays as matrices, output the result of multiplying the 2 matrices (as a numpy array) Were you able to do the matrix multiplication? (★★☆) \n",
    "\n",
    "$$ a = \\left(\\begin{matrix}\n",
    "0 & 1 & 2\\\\ \n",
    "3 & 4 & 5\\\\ \n",
    "6 & 7 & 8\n",
    "\\end{matrix}\\right)$$\n",
    "\n",
    "$$ b = \\left(\\begin{matrix}\n",
    "2 & 3 & 4\\\\ \n",
    "5 & 6 & 7\\\\ \n",
    "8 & 9 & 10\n",
    "\\end{matrix}\\right)$$\n",
    "\n",
    "\n"
   ]
  },
  {
   "cell_type": "code",
   "execution_count": null,
   "id": "820dc7a5",
   "metadata": {},
   "outputs": [
    {
     "data": {
      "text/plain": [
       "array([[ 0,  3,  8],\n",
       "       [15, 24, 35],\n",
       "       [48, 63, 80]])"
      ]
     },
     "execution_count": 110,
     "metadata": {},
     "output_type": "execute_result"
    }
   ],
   "source": [
    "a=np.array([[0,1,2],[3,4,5],[6,7,8]])\n",
    "b=np.array([[2,3,4],[5,6,7],[8,9,10]])\n",
    "np.multiply(a,b)\n",
    "#np.matmul(a,b)"
   ]
  },
  {
   "cell_type": "markdown",
   "id": "22713c3f",
   "metadata": {},
   "source": [
    "#### Exercise: Multiply a 5x3 matrix by a 3x2 matrix (real matrix product) (★★☆)"
   ]
  },
  {
   "cell_type": "code",
   "execution_count": null,
   "id": "a3e05c29",
   "metadata": {},
   "outputs": [
    {
     "data": {
      "text/plain": [
       "array([[ 256179,  607716],\n",
       "       [ 368474,  768717],\n",
       "       [1069983, 1435175],\n",
       "       [ 648226, 1237853],\n",
       "       [ 800422, 1328371]])"
      ]
     },
     "execution_count": 114,
     "metadata": {},
     "output_type": "execute_result"
    }
   ],
   "source": [
    "a=np.random.randint(1000,size=(5,3))\n",
    "b=np.random.randint(1000,size=(3,2))\n",
    "np.matmul(a,b)"
   ]
  },
  {
   "cell_type": "markdown",
   "id": "4815930e",
   "metadata": {},
   "source": [
    "## Data types\n",
    "\n",
    "Do you think the following preposition is true?\n",
    "`8==8`\n",
    "\n",
    "Surely you will definetely say yes, which is true mathematically, but computationally it is not always the same, at least in terms of memory. For example, run the following cell:"
   ]
  },
  {
   "cell_type": "code",
   "execution_count": null,
   "id": "cd81c3c6",
   "metadata": {},
   "outputs": [],
   "source": [
    "import sys\n",
    "\n",
    "# int64\n",
    "x = np.array(123)\n",
    "print(\"int64: \" + str(sys.getsizeof(x)))\n",
    "\n",
    "# int8\n",
    "x = np.array(123,dtype=np.int8)\n",
    "print(\"int8: \" + str(sys.getsizeof(x)))\n",
    "\n",
    "# float32\n",
    "x = np.array(123,dtype=np.float32)\n",
    "print(\"float32: \" + str(sys.getsizeof(x)))"
   ]
  },
  {
   "cell_type": "markdown",
   "id": "8e34f294",
   "metadata": {},
   "source": [
    "## It turns out that there are many computational representation of the same number and you can create arrays with different Data Types (dtypes) depending what you need:\n",
    "\n",
    "- Boolean : `np.bool_`\n",
    "- Char : `np.byte`\n",
    "- Short : `np.short`\n",
    "- Integer : `np.short`\n",
    "- Long : `np.int_`\n",
    "- Float : `np.single`&np.float32`\n",
    "- Double :`np.double`&`np.float64`\n",
    "- `np.int8`: integer (-128 to 127)\n",
    "- `np.int16`:integer( -32768 to 32767)\n",
    "- `np.int32`: integer(-2147483648 to 2147483647)\n",
    "- `np.int64`:integer( -9223372036854775808 to 9223372036854775807)\n",
    "\n",
    "\n",
    "Sometimes, you will need to load, create or export arrays from different data types.\n"
   ]
  },
  {
   "cell_type": "code",
   "execution_count": null,
   "id": "890bde78",
   "metadata": {},
   "outputs": [],
   "source": []
  },
  {
   "cell_type": "markdown",
   "id": "f1ae2c2d",
   "metadata": {},
   "source": [
    "## Harder exercises\n",
    "\n",
    "The next exercises are related with real situations you could face while you are working in data science and machine learning and we will be frequently talking about matrices and bidimensional arrays."
   ]
  },
  {
   "cell_type": "markdown",
   "id": "759c9c8d",
   "metadata": {},
   "source": [
    "#### Exercise: Subtract the mean of each row of a matrix (★★☆)"
   ]
  },
  {
   "cell_type": "code",
   "execution_count": 12,
   "id": "6801c73d",
   "metadata": {},
   "outputs": [
    {
     "name": "stdout",
     "output_type": "stream",
     "text": [
      "[[0.26974614 0.81897579 0.41927729 0.06859994 0.21554668]\n",
      " [0.16022812 0.13338182 0.42395962 0.97345715 0.6693537 ]\n",
      " [0.23305739 0.81881859 0.87667486 0.45595269 0.69353689]\n",
      " [0.64971351 0.62808768 0.86831465 0.38307949 0.60090762]\n",
      " [0.7860159  0.51077147 0.53102431 0.78115163 0.98296183]]\n",
      "[[-0.08868303  0.46054662  0.06084812 -0.28982923 -0.14288249]\n",
      " [-0.31184796 -0.33869426 -0.04811647  0.50138107  0.19727762]\n",
      " [-0.38255069  0.20321051  0.26106677 -0.15965539  0.07792881]\n",
      " [ 0.02369292  0.0020671   0.24229406 -0.2429411  -0.02511297]\n",
      " [ 0.06763088 -0.20761356 -0.18736072  0.06276661  0.2645768 ]]\n"
     ]
    }
   ],
   "source": [
    "a=np.random.random(size=(5,5))\n",
    "print(a)\n",
    "for k in range(len(a)):\n",
    "    a[k]=a[k]-np.mean(a[k])\n",
    "print(a)\n"
   ]
  },
  {
   "cell_type": "markdown",
   "id": "129c342d",
   "metadata": {},
   "source": [
    "#### Exercise: How to get the dates of yesterday, today and tomorrow? (★★☆)\n",
    "Check `np.datetime64`, `np.timedelta64` in numpy (https://numpy.org/doc/stable/reference/arrays.datetime.html)"
   ]
  },
  {
   "cell_type": "code",
   "execution_count": null,
   "id": "8ba1badb",
   "metadata": {},
   "outputs": [],
   "source": []
  },
  {
   "cell_type": "markdown",
   "id": "42f8b2f9",
   "metadata": {},
   "source": [
    "#### Exercise: How to get all the dates corresponding to the month of December 2022? (★★☆)\n",
    "Combine `arange`with `datetime`\n"
   ]
  },
  {
   "cell_type": "code",
   "execution_count": null,
   "id": "eb8ebe45",
   "metadata": {},
   "outputs": [],
   "source": []
  },
  {
   "cell_type": "markdown",
   "id": "486df8ea",
   "metadata": {},
   "source": [
    "#### Exercise: Extract the integer part of a random array of positive numbers using 2 different methods (★★☆)"
   ]
  },
  {
   "cell_type": "code",
   "execution_count": null,
   "id": "34b4fa08",
   "metadata": {},
   "outputs": [],
   "source": []
  },
  {
   "cell_type": "markdown",
   "id": "649e89f9",
   "metadata": {},
   "source": [
    "#### Exercise: Create a 5x5 matrix with row values ranging from 0 to 4 (★★☆)"
   ]
  },
  {
   "cell_type": "code",
   "execution_count": 33,
   "id": "663cc611",
   "metadata": {},
   "outputs": [
    {
     "name": "stdout",
     "output_type": "stream",
     "text": [
      "[[0 1 2 3 4]\n",
      " [0 1 2 3 4]\n",
      " [0 1 2 3 4]\n",
      " [0 1 2 3 4]\n",
      " [0 1 2 3 4]]\n"
     ]
    }
   ],
   "source": [
    "l=np.arange(5)\n",
    "r=l\n",
    "for k in range(4):\n",
    "    r=np.vstack((r,l))\n",
    "print(r)\n"
   ]
  },
  {
   "cell_type": "markdown",
   "id": "3421e17f",
   "metadata": {},
   "source": [
    "#### Exercise: Consider a generator function that generates 10 integers and use it to build an array (★★☆)"
   ]
  },
  {
   "cell_type": "code",
   "execution_count": 39,
   "id": "7336b8e4",
   "metadata": {},
   "outputs": [
    {
     "name": "stdout",
     "output_type": "stream",
     "text": [
      "[[9830 1062]\n",
      " [5825 5383]\n",
      " [4670 3389]\n",
      " [3514 5980]\n",
      " [3596 9536]]\n"
     ]
    }
   ],
   "source": [
    "def f3():\n",
    "    l=np.random.randint(1,10000,10)\n",
    "    return np.reshape(l,(5,2))\n",
    "print(f3())"
   ]
  },
  {
   "cell_type": "markdown",
   "id": "483dd554",
   "metadata": {},
   "source": [
    "#### Exercise: Create a vector of size 10 with values ranging from 0 to 1, both excluded (★★☆)"
   ]
  },
  {
   "cell_type": "code",
   "execution_count": 130,
   "id": "c89b93e7",
   "metadata": {},
   "outputs": [
    {
     "data": {
      "text/plain": [
       "array([0.10692319, 0.25719844, 0.29569902, 0.39144353, 0.39385579,\n",
       "       0.46268791, 0.68527359, 0.71963601, 0.72142185, 0.82094508])"
      ]
     },
     "execution_count": 130,
     "metadata": {},
     "output_type": "execute_result"
    }
   ],
   "source": [
    "np.sort(np.random.random(10))"
   ]
  },
  {
   "cell_type": "markdown",
   "id": "2d07be1c",
   "metadata": {},
   "source": [
    "#### Exercise: Create a random vector of size 10 and sort it (★★☆)"
   ]
  },
  {
   "cell_type": "code",
   "execution_count": 115,
   "id": "4f7cb3ad",
   "metadata": {},
   "outputs": [
    {
     "data": {
      "text/plain": [
       "array([0.14069356, 0.23351271, 0.42909619, 0.56186531, 0.58383119,\n",
       "       0.60100717, 0.62550956, 0.71019088, 0.74999081, 0.7755427 ])"
      ]
     },
     "execution_count": 115,
     "metadata": {},
     "output_type": "execute_result"
    }
   ],
   "source": [
    "np.sort(np.random.random(10))"
   ]
  },
  {
   "cell_type": "markdown",
   "id": "fe043549",
   "metadata": {},
   "source": [
    "#### Exercise: Consider two random array A and B, check if they are equal (★★☆)"
   ]
  },
  {
   "cell_type": "code",
   "execution_count": 52,
   "id": "3326a686",
   "metadata": {},
   "outputs": [
    {
     "name": "stdout",
     "output_type": "stream",
     "text": [
      "[[False False]\n",
      " [False False]\n",
      " [False False]]\n"
     ]
    }
   ],
   "source": [
    "A=np.random.rand(3,2)\n",
    "B=np.random.rand(3,2)\n",
    "print(A==B)"
   ]
  },
  {
   "cell_type": "markdown",
   "id": "2002cb03",
   "metadata": {},
   "source": [
    "#### Exercise: Consider a random 10x2 matrix representing cartesian coordinates, convert them to polar coordinates (★★★)\n",
    "Suggestion: check how to calculate the \"square of a matrix\""
   ]
  },
  {
   "cell_type": "code",
   "execution_count": null,
   "id": "58be72bc",
   "metadata": {},
   "outputs": [],
   "source": []
  },
  {
   "cell_type": "markdown",
   "id": "b7109c9f",
   "metadata": {},
   "source": [
    "#### Exercise: Create random vector of size 10 and replace the maximum value by 0 (★★☆)"
   ]
  },
  {
   "cell_type": "code",
   "execution_count": 53,
   "id": "f79e79a7",
   "metadata": {},
   "outputs": [
    {
     "name": "stdout",
     "output_type": "stream",
     "text": [
      "[0.38633598 0.58009504 0.61812242 0.45736835 0.48530634 0.41469103\n",
      " 0.67150094 0.50563639 0.90904038 0.62431327]\n"
     ]
    },
    {
     "data": {
      "text/plain": [
       "array([0.38633598, 0.58009504, 0.61812242, 0.45736835, 0.48530634,\n",
       "       0.41469103, 0.67150094, 0.50563639, 0.        , 0.62431327])"
      ]
     },
     "execution_count": 53,
     "metadata": {},
     "output_type": "execute_result"
    }
   ],
   "source": [
    "l=np.random.random(10)\n",
    "print(l)\n",
    "np.where(l==np.max(l),0,l)"
   ]
  },
  {
   "cell_type": "markdown",
   "id": "fb24674c",
   "metadata": {},
   "source": [
    "#### Exercise: How to print all the values of an array? (★★☆)"
   ]
  },
  {
   "cell_type": "code",
   "execution_count": 57,
   "id": "c81f1456",
   "metadata": {},
   "outputs": [
    {
     "name": "stdout",
     "output_type": "stream",
     "text": [
      "[[0.67202284 0.77967436 0.58422197 0.69617706 0.85222813]\n",
      " [0.87025039 0.36692837 0.59114513 0.37918139 0.91042504]\n",
      " [0.25100412 0.09828032 0.04578557 0.67585703 0.94871501]\n",
      " [0.86810047 0.22552517 0.83160037 0.40783483 0.82797251]]\n",
      "0.6720228437932542\n",
      "0.7796743626922616\n",
      "0.5842219687106651\n",
      "0.6961770645659052\n",
      "0.8522281272483858\n",
      "0.870250389353976\n",
      "0.36692837147443647\n",
      "0.5911451308389418\n",
      "0.37918139000953766\n",
      "0.9104250448216249\n",
      "0.25100412243151327\n",
      "0.09828031794832848\n",
      "0.045785574999181455\n",
      "0.6758570293309782\n",
      "0.9487150059791883\n",
      "0.8681004651457632\n",
      "0.22552516782161613\n",
      "0.8316003694485036\n",
      "0.40783482616367817\n",
      "0.827972514760272\n"
     ]
    }
   ],
   "source": [
    "l=np.random.random(size=(4,5))\n",
    "print(l)\n",
    "s=l.shape\n",
    "for i in range(s[0]):\n",
    "    for j in range(s[1]):\n",
    "        print(l[i,j])"
   ]
  },
  {
   "cell_type": "markdown",
   "id": "48413134",
   "metadata": {},
   "source": [
    "#### Exercise: How to convert a float (32 bits) array into an integer (32 bits) in place?\n",
    "Check https://stackoverflow.com/a/4396247/5989906"
   ]
  },
  {
   "cell_type": "code",
   "execution_count": null,
   "id": "5db64b6d",
   "metadata": {},
   "outputs": [],
   "source": []
  },
  {
   "cell_type": "markdown",
   "id": "215b6acc",
   "metadata": {},
   "source": [
    "#### Exercise: Subtract the mean of each row of a matrix (★★☆)"
   ]
  },
  {
   "cell_type": "code",
   "execution_count": null,
   "id": "dd1adef4",
   "metadata": {},
   "outputs": [],
   "source": []
  },
  {
   "cell_type": "markdown",
   "id": "c0cf37e0",
   "metadata": {},
   "source": [
    "#### Exercise: How to sort an array by the nth column? (★★☆)"
   ]
  },
  {
   "cell_type": "code",
   "execution_count": null,
   "id": "9336ca5f",
   "metadata": {},
   "outputs": [],
   "source": []
  },
  {
   "cell_type": "markdown",
   "id": "c17fb213",
   "metadata": {},
   "source": [
    "#### Exercise: Find the position of a the minimum of a 2D matrix? (★★☆)"
   ]
  },
  {
   "cell_type": "code",
   "execution_count": 73,
   "id": "7fdda78d",
   "metadata": {},
   "outputs": [
    {
     "name": "stdout",
     "output_type": "stream",
     "text": [
      "[[0.32594181 0.95319819 0.17838686]\n",
      " [0.9845391  0.11233694 0.75536384]]\n"
     ]
    },
    {
     "data": {
      "text/plain": [
       "(array([1]), array([1]))"
      ]
     },
     "execution_count": 73,
     "metadata": {},
     "output_type": "execute_result"
    }
   ],
   "source": [
    "l=np.random.random((2,3))\n",
    "print(l)\n",
    "np.nonzero(np.where(l==np.min(l),l,0))"
   ]
  },
  {
   "cell_type": "markdown",
   "id": "f4427f7f",
   "metadata": {},
   "source": [
    "#### Exercise: Read an image using openCV, check its dimensions, normalize the numbers and show the image (★★★)\n",
    "Check: https://www.geeksforgeeks.org/python-opencv-cv2-imread-method/"
   ]
  },
  {
   "cell_type": "code",
   "execution_count": null,
   "id": "fe253212",
   "metadata": {},
   "outputs": [],
   "source": []
  },
  {
   "cell_type": "markdown",
   "id": "33c986d9",
   "metadata": {},
   "source": [
    "#### Exercise: Considering a four dimensions array, how to get sum over the last two axis at once? (★★★)"
   ]
  },
  {
   "cell_type": "code",
   "execution_count": null,
   "id": "a99a50e2",
   "metadata": {},
   "outputs": [],
   "source": []
  },
  {
   "cell_type": "markdown",
   "id": "928a1a15",
   "metadata": {},
   "source": [
    "#### Exercise: How to get the diagonal of a dot product? (★★★)"
   ]
  },
  {
   "cell_type": "code",
   "execution_count": 81,
   "id": "ef2c9ddd",
   "metadata": {},
   "outputs": [
    {
     "name": "stdout",
     "output_type": "stream",
     "text": [
      "[[ 918555  644820]\n",
      " [1131328 1028960]]\n"
     ]
    },
    {
     "data": {
      "text/plain": [
       "array([ 918555, 1028960])"
      ]
     },
     "execution_count": 81,
     "metadata": {},
     "output_type": "execute_result"
    }
   ],
   "source": [
    "a=np.random.randint(1,1000,size=(2,2))\n",
    "b=np.random.randint(1,1000,size=(2,2))\n",
    "print(np.dot(a,b))\n",
    "np.dot(a,b).diagonal()"
   ]
  },
  {
   "cell_type": "markdown",
   "id": "f62551d8",
   "metadata": {},
   "source": [
    "#### Exercise: Consider an array of dimension (5,5,3), how to mulitply it by an array with dimensions (5,5)? (★★★)"
   ]
  },
  {
   "cell_type": "code",
   "execution_count": null,
   "id": "9ab241b7",
   "metadata": {},
   "outputs": [],
   "source": []
  },
  {
   "cell_type": "markdown",
   "id": "6896e326",
   "metadata": {},
   "source": [
    "#### Exercise: How to swap two rows of an array? (★★★)"
   ]
  },
  {
   "cell_type": "code",
   "execution_count": null,
   "id": "9e8fcba9",
   "metadata": {},
   "outputs": [],
   "source": []
  },
  {
   "cell_type": "markdown",
   "id": "8e83df46",
   "metadata": {},
   "source": [
    "#### Exercise: Read an image using openCV and tranpose it. What did you get exactly? Was the image rotated? Moved? Reflected with respect to an axis? (★★★)"
   ]
  },
  {
   "cell_type": "code",
   "execution_count": null,
   "id": "f73127b7",
   "metadata": {},
   "outputs": [],
   "source": []
  },
  {
   "cell_type": "markdown",
   "id": "781fa236",
   "metadata": {},
   "source": [
    "#### Exercise: Consider an array Z = [1,2,3,4,5,6,7,8,9,10,11,12,13,14], how to generate an array R = [[1,2,3,4], [2,3,4,5], [3,4,5,6], ..., [11,12,13,14]]? (★★★)"
   ]
  },
  {
   "cell_type": "code",
   "execution_count": null,
   "id": "8e84d3c2",
   "metadata": {},
   "outputs": [],
   "source": []
  },
  {
   "cell_type": "markdown",
   "id": "7d8dc135",
   "metadata": {},
   "source": [
    "#### Exercise: How to find the most frequent value in an array? (★★★)"
   ]
  },
  {
   "cell_type": "code",
   "execution_count": null,
   "id": "3978a7a2",
   "metadata": {},
   "outputs": [],
   "source": []
  },
  {
   "cell_type": "markdown",
   "id": "4c70397b",
   "metadata": {},
   "source": [
    "#### Exercise: How to get the n largest values of an array (★★★)"
   ]
  },
  {
   "cell_type": "code",
   "execution_count": null,
   "id": "16371718",
   "metadata": {},
   "outputs": [],
   "source": []
  },
  {
   "cell_type": "markdown",
   "id": "d94352b6",
   "metadata": {},
   "source": [
    "#### Exercise: Consider a large vector Z, compute Z to the power of 3 using 3 different methods (★★★)"
   ]
  },
  {
   "cell_type": "code",
   "execution_count": 15,
   "id": "301ba8a8",
   "metadata": {},
   "outputs": [
    {
     "name": "stdout",
     "output_type": "stream",
     "text": [
      "[1, 27, 8, 125]\n"
     ]
    }
   ],
   "source": [
    "z=[1,3,2,5]\n",
    "z1=list(map(lambda x: x**3,z))\n",
    "z2=[]\n",
    "for k in z:\n",
    "    z2.append(k**3)\n",
    "\n",
    "\n",
    "\n"
   ]
  },
  {
   "cell_type": "markdown",
   "id": "2784c996",
   "metadata": {},
   "source": [
    "#### Exercise: Given a two dimensional array, how to extract unique rows? (★★★)"
   ]
  },
  {
   "cell_type": "code",
   "execution_count": null,
   "id": "f030595f",
   "metadata": {},
   "outputs": [],
   "source": []
  },
  {
   "cell_type": "markdown",
   "id": "e5737276",
   "metadata": {},
   "source": [
    "#### Exercise: Can you have arrray of strings? can you mix different data types in the same array? Can you operate (add, sub, mult) arrays with different data types? (★★★)"
   ]
  },
  {
   "cell_type": "code",
   "execution_count": null,
   "id": "68c333b0",
   "metadata": {},
   "outputs": [],
   "source": []
  }
 ],
 "metadata": {
  "kernelspec": {
   "display_name": "Python 3",
   "language": "python",
   "name": "python3"
  },
  "language_info": {
   "codemirror_mode": {
    "name": "ipython",
    "version": 3
   },
   "file_extension": ".py",
   "mimetype": "text/x-python",
   "name": "python",
   "nbconvert_exporter": "python",
   "pygments_lexer": "ipython3",
   "version": "3.8.12"
  }
 },
 "nbformat": 4,
 "nbformat_minor": 5
}
