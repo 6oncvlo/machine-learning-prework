{
 "cells": [
  {
   "cell_type": "markdown",
   "id": "bdfbcacc",
   "metadata": {},
   "source": [
    "![alt text](./assets/pandas_logo.jpg)\n",
    "\n",
    "\n",
    "\n",
    "## Introduction to pandas\n",
    "\n",
    "Pandas is a fast, powerful, flexible and easy to use open source data analysis and manipulation tool,\n",
    "built on top of the Python programming language.\n",
    "\n",
    "## What is Pandas?\n",
    "\n",
    "Pandas is a Python library used for working with data sets.\n",
    "\n",
    "It has functions for analyzing, cleaning, exploring, and manipulating data.\n",
    "\n",
    "The name \"Pandas\" has a reference to both \"Panel Data\", and \"Python Data Analysis\" and was created by Wes McKinney in 2008.\n",
    "\n",
    "\n",
    "## Installing Pandas\n",
    "\n",
    "When you want to work with pandas locally, you should run the following commands:\n",
    "\n",
    "`pip install pandas`\\\n",
    "or\\\n",
    "`conda install pandas`\n",
    "\n",
    "In our case, 4Geeks have prepared all the environment in order that you can work comfortably.\n",
    "\n"
   ]
  },
  {
   "cell_type": "markdown",
   "id": "60e5d082",
   "metadata": {},
   "source": [
    "## Why use Pandas?\n",
    "\n",
    "Pandas allows us to analyze big data and make conclusions based on statistical theories. It can clean messy data sets, and make them readable and relevant and clearly, relevant data is very important in data science.\n",
    "\n",
    "But the main reason is Pandas allow you deal with a new structure of data: dataframes. A dataframe is a two-dimensional data structure in which data of different types (such as characters, integers, floating-point values, factors, and more) can be stored in columns. It is similar to an SQL spreadsheet or table of excels. A dataframe always has an index (starting at 0). The index refers to the position of an element in the data structure.\n",
    "\n",
    "Pandas provides tools that allow:\n",
    "\n",
    "- read and write data in different formats: CSV, Microsoft Excel, SQL databases and HDF5 format\n",
    "\n",
    "- easily select and filter data tables based on position, value, or labels\n",
    "\n",
    "- merge and join data\n",
    "\n",
    "- time series manipulation\n",
    "\n",
    "- make graphs (plots)\n",
    "\n",
    "In pandas there are three basic types of objects, all of them based on Numpy:\n",
    "\n",
    "- Series (lists, 1D),\n",
    "\n",
    "- DataFrame (tables, 2D) and\n",
    "\n",
    "- Panels (3D tables)."
   ]
  },
  {
   "cell_type": "markdown",
   "id": "c4e52ee5",
   "metadata": {},
   "source": [
    "#### Exercise: Import the pandas package under the name `pd` (★☆☆)\n",
    "\n",
    "To import a new library in python we have to use the import statement like this: `import <library_name> as <your_alias>`.\n",
    "\n",
    "Use the `import` statement in python to import the pandas module under the alias pd. If you want to assert the library was correctly imported, remember you can print the version of any python library with: `name_of_package.__version__`"
   ]
  },
  {
   "cell_type": "code",
   "execution_count": 7,
   "id": "ea3038d9",
   "metadata": {},
   "outputs": [],
   "source": [
    "import pandas as pd"
   ]
  },
  {
   "cell_type": "markdown",
   "id": "40631cd6",
   "metadata": {},
   "source": [
    "## Pandas data types\n",
    "\n",
    "Pandas has three different data structures:\n",
    "\n",
    "- Series: One-dimensional structure.\n",
    "- DataFrame: Two-dimensional structure (tables).\n",
    "- Panel: Three-dimensional structure (cubes and less used).\n",
    "\n",
    "These structures are built from arrays from the NumPy library, adding new functionalities.\n",
    "\n",
    "\n",
    "<img src=\"./assets/series_dataframe.png\" width=\"600\"/>\n"
   ]
  },
  {
   "cell_type": "markdown",
   "id": "2060325e",
   "metadata": {},
   "source": [
    "## Object creation\n",
    "\n",
    "Creating a Series by passing a list of values, letting pandas create a default integer index:"
   ]
  },
  {
   "cell_type": "code",
   "execution_count": 2,
   "id": "2a9f5838",
   "metadata": {},
   "outputs": [],
   "source": [
    "import numpy as np\n",
    "s = pd.Series([1, 3, 5, np.nan, 6, 8])"
   ]
  },
  {
   "cell_type": "markdown",
   "id": "e3c20b3d",
   "metadata": {},
   "source": [
    "In the previous exercise, we have created a pandas series (a one-dimensional vector or array) from a list. In the following exercise, we ask you to create a one-dimensional vector but this time from other python structures.\n",
    "\n",
    "#### Exercise: Create a pandas series from each of the items below: a list, numpy and a dictionary (★☆☆)"
   ]
  },
  {
   "cell_type": "code",
   "execution_count": 9,
   "id": "8a758bcf",
   "metadata": {},
   "outputs": [
    {
     "name": "stdout",
     "output_type": "stream",
     "text": [
      "a    2\n",
      "b    4\n",
      "f    1\n",
      "dtype: int64\n"
     ]
    }
   ],
   "source": [
    "l1=[0,1,\"ana\"]\n",
    "s1=pd.Series(l1)\n",
    "l2=np.zeros(3)\n",
    "s2=pd.Series(l2)\n",
    "l3={\"a\":2,\"b\":4,\"f\":1}\n",
    "s3=pd.Series(l3)\n",
    "print(s3)"
   ]
  },
  {
   "cell_type": "markdown",
   "id": "0a708990",
   "metadata": {},
   "source": [
    "#### Exercise: Now, try to create a dataframe of one column from a pandas series (★☆☆)\n",
    "\n",
    "Check the function `to_frame` (https://pandas.pydata.org/docs/reference/api/pandas.Series.to_frame.html)"
   ]
  },
  {
   "cell_type": "code",
   "execution_count": 15,
   "id": "477e01f4",
   "metadata": {},
   "outputs": [
    {
     "data": {
      "text/html": [
       "<div>\n",
       "<style scoped>\n",
       "    .dataframe tbody tr th:only-of-type {\n",
       "        vertical-align: middle;\n",
       "    }\n",
       "\n",
       "    .dataframe tbody tr th {\n",
       "        vertical-align: top;\n",
       "    }\n",
       "\n",
       "    .dataframe thead th {\n",
       "        text-align: right;\n",
       "    }\n",
       "</style>\n",
       "<table border=\"1\" class=\"dataframe\">\n",
       "  <thead>\n",
       "    <tr style=\"text-align: right;\">\n",
       "      <th></th>\n",
       "      <th>nºs aleatorios</th>\n",
       "    </tr>\n",
       "  </thead>\n",
       "  <tbody>\n",
       "    <tr>\n",
       "      <th>0</th>\n",
       "      <td>0.868333</td>\n",
       "    </tr>\n",
       "    <tr>\n",
       "      <th>1</th>\n",
       "      <td>0.752917</td>\n",
       "    </tr>\n",
       "    <tr>\n",
       "      <th>2</th>\n",
       "      <td>0.543361</td>\n",
       "    </tr>\n",
       "    <tr>\n",
       "      <th>3</th>\n",
       "      <td>0.354543</td>\n",
       "    </tr>\n",
       "  </tbody>\n",
       "</table>\n",
       "</div>"
      ],
      "text/plain": [
       "   nºs aleatorios\n",
       "0        0.868333\n",
       "1        0.752917\n",
       "2        0.543361\n",
       "3        0.354543"
      ]
     },
     "execution_count": 15,
     "metadata": {},
     "output_type": "execute_result"
    }
   ],
   "source": [
    "l=np.random.random(4)\n",
    "s=pd.Series(l,name=\"nºs aleatorios\")\n",
    "s.to_frame()"
   ]
  },
  {
   "cell_type": "markdown",
   "id": "0b16cd77",
   "metadata": {},
   "source": [
    "#### Exercise: How to combine many series to form a dataframe? (★☆☆)\n",
    "Create two series with names `ser1` and `ser2` to form a dataframe. That is, a two columns dataframe from the series `ser1` and `ser2`."
   ]
  },
  {
   "cell_type": "code",
   "execution_count": 3,
   "id": "4d9b5975",
   "metadata": {},
   "outputs": [
    {
     "data": {
      "text/html": [
       "<div>\n",
       "<style scoped>\n",
       "    .dataframe tbody tr th:only-of-type {\n",
       "        vertical-align: middle;\n",
       "    }\n",
       "\n",
       "    .dataframe tbody tr th {\n",
       "        vertical-align: top;\n",
       "    }\n",
       "\n",
       "    .dataframe thead th {\n",
       "        text-align: right;\n",
       "    }\n",
       "</style>\n",
       "<table border=\"1\" class=\"dataframe\">\n",
       "  <thead>\n",
       "    <tr style=\"text-align: right;\">\n",
       "      <th></th>\n",
       "      <th>a</th>\n",
       "      <th>ser2</th>\n",
       "    </tr>\n",
       "  </thead>\n",
       "  <tbody>\n",
       "    <tr>\n",
       "      <th>0</th>\n",
       "      <td>0.998153</td>\n",
       "      <td>3</td>\n",
       "    </tr>\n",
       "    <tr>\n",
       "      <th>1</th>\n",
       "      <td>0.451932</td>\n",
       "      <td>7</td>\n",
       "    </tr>\n",
       "    <tr>\n",
       "      <th>2</th>\n",
       "      <td>0.956721</td>\n",
       "      <td>7</td>\n",
       "    </tr>\n",
       "    <tr>\n",
       "      <th>3</th>\n",
       "      <td>0.335492</td>\n",
       "      <td>3</td>\n",
       "    </tr>\n",
       "  </tbody>\n",
       "</table>\n",
       "</div>"
      ],
      "text/plain": [
       "          a  ser2\n",
       "0  0.998153     3\n",
       "1  0.451932     7\n",
       "2  0.956721     7\n",
       "3  0.335492     3"
      ]
     },
     "execution_count": 3,
     "metadata": {},
     "output_type": "execute_result"
    }
   ],
   "source": [
    "s1=pd.Series(np.random.random(4),name=\"ser1\")\n",
    "s2=pd.Series(np.random.randint(1,10,4),name=\"ser2\")\n",
    "pd.DataFrame({\"a\": s1,\"ser2\":s2})\n"
   ]
  },
  {
   "cell_type": "markdown",
   "id": "782d4c77",
   "metadata": {},
   "source": [
    "#### Exercise: How to get the items not common to both series A and series B? (★☆☆)\n",
    "Extract the elements that are not in common of the series `ser1` and `ser2`we define below.\n",
    "Check functions `union1d` and `intersect1d` from numpy. Yes, numpy (https://numpy.org/doc/stable/reference/generated/numpy.union1d.html and https://numpy.org/doc/stable/reference/generated/numpy.intersect1d.html). Remember that **numpy and pandas work together**"
   ]
  },
  {
   "cell_type": "code",
   "execution_count": 40,
   "id": "5dbe1a08",
   "metadata": {},
   "outputs": [
    {
     "data": {
      "text/plain": [
       "array([1, 2, 3, 6, 7, 8])"
      ]
     },
     "execution_count": 40,
     "metadata": {},
     "output_type": "execute_result"
    }
   ],
   "source": [
    "# Input\n",
    "\n",
    "ser1 = pd.Series([1, 2, 3, 4, 5])\n",
    "ser2 = pd.Series([4, 5, 6, 7, 8]) \n",
    "\n",
    "t=np.union1d(ser1,ser2)\n",
    "c=np.intersect1d(ser1,ser2)\n",
    "\n",
    "t[~np.isin(t,c)] #np.isin devolve o indice dos eltos da array t que se encontram em c"
   ]
  },
  {
   "cell_type": "markdown",
   "id": "48d48f01",
   "metadata": {},
   "source": [
    "#### Exercise: How to convert a numpy array to a dataframe of given shape? (★☆☆)\n",
    "Reshape a random series into a dataframe with 7 rows and 5 columns. In this exercise, you have to create a one-dimensional array of length 35 and then you will have to convert that array into a dataframe"
   ]
  },
  {
   "cell_type": "code",
   "execution_count": 56,
   "id": "3ed233e7",
   "metadata": {},
   "outputs": [
    {
     "data": {
      "text/html": [
       "<div>\n",
       "<style scoped>\n",
       "    .dataframe tbody tr th:only-of-type {\n",
       "        vertical-align: middle;\n",
       "    }\n",
       "\n",
       "    .dataframe tbody tr th {\n",
       "        vertical-align: top;\n",
       "    }\n",
       "\n",
       "    .dataframe thead th {\n",
       "        text-align: right;\n",
       "    }\n",
       "</style>\n",
       "<table border=\"1\" class=\"dataframe\">\n",
       "  <thead>\n",
       "    <tr style=\"text-align: right;\">\n",
       "      <th></th>\n",
       "      <th>0</th>\n",
       "      <th>1</th>\n",
       "      <th>2</th>\n",
       "      <th>3</th>\n",
       "      <th>4</th>\n",
       "    </tr>\n",
       "  </thead>\n",
       "  <tbody>\n",
       "    <tr>\n",
       "      <th>0</th>\n",
       "      <td>0.051239</td>\n",
       "      <td>0.848134</td>\n",
       "      <td>0.119551</td>\n",
       "      <td>0.033827</td>\n",
       "      <td>0.954218</td>\n",
       "    </tr>\n",
       "    <tr>\n",
       "      <th>1</th>\n",
       "      <td>0.187911</td>\n",
       "      <td>0.191734</td>\n",
       "      <td>0.330254</td>\n",
       "      <td>0.170265</td>\n",
       "      <td>0.584995</td>\n",
       "    </tr>\n",
       "    <tr>\n",
       "      <th>2</th>\n",
       "      <td>0.166769</td>\n",
       "      <td>0.568223</td>\n",
       "      <td>0.175062</td>\n",
       "      <td>0.973946</td>\n",
       "      <td>0.442672</td>\n",
       "    </tr>\n",
       "    <tr>\n",
       "      <th>3</th>\n",
       "      <td>0.600788</td>\n",
       "      <td>0.353182</td>\n",
       "      <td>0.925319</td>\n",
       "      <td>0.537953</td>\n",
       "      <td>0.170167</td>\n",
       "    </tr>\n",
       "    <tr>\n",
       "      <th>4</th>\n",
       "      <td>0.233659</td>\n",
       "      <td>0.052686</td>\n",
       "      <td>0.254047</td>\n",
       "      <td>0.019634</td>\n",
       "      <td>0.714957</td>\n",
       "    </tr>\n",
       "    <tr>\n",
       "      <th>5</th>\n",
       "      <td>0.675324</td>\n",
       "      <td>0.470283</td>\n",
       "      <td>0.831043</td>\n",
       "      <td>0.202754</td>\n",
       "      <td>0.461382</td>\n",
       "    </tr>\n",
       "    <tr>\n",
       "      <th>6</th>\n",
       "      <td>0.490660</td>\n",
       "      <td>0.125480</td>\n",
       "      <td>0.389017</td>\n",
       "      <td>0.773254</td>\n",
       "      <td>0.706713</td>\n",
       "    </tr>\n",
       "  </tbody>\n",
       "</table>\n",
       "</div>"
      ],
      "text/plain": [
       "          0         1         2         3         4\n",
       "0  0.051239  0.848134  0.119551  0.033827  0.954218\n",
       "1  0.187911  0.191734  0.330254  0.170265  0.584995\n",
       "2  0.166769  0.568223  0.175062  0.973946  0.442672\n",
       "3  0.600788  0.353182  0.925319  0.537953  0.170167\n",
       "4  0.233659  0.052686  0.254047  0.019634  0.714957\n",
       "5  0.675324  0.470283  0.831043  0.202754  0.461382\n",
       "6  0.490660  0.125480  0.389017  0.773254  0.706713"
      ]
     },
     "execution_count": 56,
     "metadata": {},
     "output_type": "execute_result"
    }
   ],
   "source": [
    "l=pd.Series(np.random.random(35))\n",
    "ll=l.values.reshape(7,5)   #series.values.reshape(m,n) reshape a series into a series of dimension mxn\n",
    "pd.DataFrame(data=ll)\n"
   ]
  },
  {
   "cell_type": "markdown",
   "id": "4fa39382",
   "metadata": {},
   "source": [
    "#### Exercise:  How to extract items at given positions from a series (★☆☆)\n",
    "You can also create series and dataframe that contain strings. From the following pandas series `ser`, extract the items at positions in the list `pos`. Check `take`from pandas (https://pandas.pydata.org/docs/reference/api/pandas.DataFrame.take.html)"
   ]
  },
  {
   "cell_type": "code",
   "execution_count": 58,
   "id": "c97757ec",
   "metadata": {},
   "outputs": [
    {
     "data": {
      "text/plain": [
       "0     a\n",
       "4     e\n",
       "8     i\n",
       "14    o\n",
       "20    u\n",
       "dtype: object"
      ]
     },
     "execution_count": 58,
     "metadata": {},
     "output_type": "execute_result"
    }
   ],
   "source": [
    "# Input\n",
    "\n",
    "ser = pd.Series(list('abcdefghijklmnopqrstuvwxyz'))\n",
    "pos = [0, 4, 8, 14, 20]\n",
    "ser.take(pos)"
   ]
  },
  {
   "cell_type": "markdown",
   "id": "da64551a",
   "metadata": {},
   "source": [
    "#### Exercise:  How to stack two series vertically and horizontally ?\n",
    "Create two series `ser1` and `ser2` and stack them vertically and horizontally (to form a dataframe). Check `concatenate`from pandas (https://pandas.pydata.org/docs/reference/api/pandas.concat.html)"
   ]
  },
  {
   "cell_type": "code",
   "execution_count": 73,
   "id": "327f7adb",
   "metadata": {},
   "outputs": [
    {
     "data": {
      "text/plain": [
       "0    0.0\n",
       "1    0.0\n",
       "2    0.0\n",
       "3    1.0\n",
       "4    1.0\n",
       "5    1.0\n",
       "dtype: float64"
      ]
     },
     "execution_count": 73,
     "metadata": {},
     "output_type": "execute_result"
    }
   ],
   "source": [
    "s1=pd.Series(np.zeros(3),name=\"ser1\")\n",
    "s2=pd.Series(np.ones(3),name=\"ser2\")\n",
    "pd.concat([s1,s2],axis=0)\n",
    "pd.concat([s1,s2],axis=0,ignore_index=True)"
   ]
  },
  {
   "cell_type": "markdown",
   "id": "13c5928c",
   "metadata": {},
   "source": [
    "#### Exercise: How to get the positions of items of series A in another series B? (★★☆)\n",
    "Get the positions of items of ser2 in ser1 as a list. Remember the function `where`from numpy (https://numpy.org/devdocs/reference/generated/numpy.where.html)"
   ]
  },
  {
   "cell_type": "code",
   "execution_count": 84,
   "id": "911c9b93",
   "metadata": {},
   "outputs": [
    {
     "data": {
      "text/plain": [
       "(array([0, 2, 3]),)"
      ]
     },
     "execution_count": 84,
     "metadata": {},
     "output_type": "execute_result"
    }
   ],
   "source": [
    "## Input\n",
    "\n",
    "ser1 = pd.Series([10, 9, 6, 5, 3, 1, 12, 8, 13])\n",
    "ser2 = pd.Series([1, 3000, 10, 13]) \n",
    "np.nonzero(np.isin(ser2,ser1))\n"
   ]
  },
  {
   "cell_type": "markdown",
   "id": "3fa2e461",
   "metadata": {},
   "source": [
    "#### Exercise: How to compute difference of differences between consequtive numbers of a series? (★★☆)\n",
    "Difference of differences between the consequtive numbers of `ser`."
   ]
  },
  {
   "cell_type": "code",
   "execution_count": 94,
   "id": "323eb38a",
   "metadata": {},
   "outputs": [
    {
     "data": {
      "text/plain": [
       "array([nan, nan,  1.,  1.,  1.,  1.,  0.,  2.])"
      ]
     },
     "execution_count": 94,
     "metadata": {},
     "output_type": "execute_result"
    }
   ],
   "source": [
    "## Input\n",
    "ser = pd.Series([1, 3, 6, 10, 15, 21, 27, 35])\n",
    "\n",
    "a=np.roll(ser,1)\n",
    "b=np.where(ser-a<0,np.nan,ser-a)\n",
    "c=np.roll(b,1)\n",
    "b-c\n",
    "\n",
    "## Output should be like following\n",
    "# [nan, 2.0, 3.0, 4.0, 5.0, 6.0, 6.0, 8.0]\n",
    "# [nan, nan, 1.0, 1.0, 1.0, 1.0, 0.0, 2.0]"
   ]
  },
  {
   "cell_type": "markdown",
   "id": "ff8dbb92",
   "metadata": {},
   "source": [
    "## Apply functions to a series\n",
    "It is also possible to apply a function to each element of the series using the following method:\n",
    "\n",
    "`s.apply(f)`: Returns a series with the result of applying the function f to each of the elements of the series s.\n",
    "\n",
    "### Example\n",
    "```\n",
    "import pandas as pd\n",
    "from math import log\n",
    "s = pd.Series([1, 2, 3, 4])\n",
    "s.apply(log)\n",
    "```"
   ]
  },
  {
   "cell_type": "markdown",
   "id": "e3a7ba7f",
   "metadata": {},
   "source": [
    "#### Exercise: Convert all values of a pandas series of string to upper (★☆☆)\n",
    "You have to create a series of strings with random values and then convert each string to capital letters.\n",
    "Check upper in pandas (https://pandas.pydata.org/docs/reference/api/pandas.Series.str.upper.html)"
   ]
  },
  {
   "cell_type": "code",
   "execution_count": 133,
   "id": "01d8e257",
   "metadata": {},
   "outputs": [],
   "source": [
    "import string\n",
    "\n",
    "#letters = string.ascii_lowercase\n",
    "#l=np.array((letters), dtype=str)\n",
    "#k=[np.random.choice(l,size=10),np.random.choice(l,size=4),np.random.choice(l,size=6),np.random.choice(l,size=3)]\n",
    "#a=pd.Series(k)\n",
    "#print(k)\n",
    "#a.str.upper()\n",
    "#np.random.choice(letters)"
   ]
  },
  {
   "cell_type": "markdown",
   "id": "6d17ab5d",
   "metadata": {},
   "source": [
    "#### Exercise: Get all values greater than 5 from a pandas series (★☆☆)\n",
    "Remember that you can create series and dataframes from dictionaries. In this exercise you will have to get all values greater than 5."
   ]
  },
  {
   "cell_type": "code",
   "execution_count": 153,
   "id": "841373cd",
   "metadata": {},
   "outputs": [
    {
     "data": {
      "text/plain": [
       "Math           6.0\n",
       "Programming    8.5\n",
       "dtype: float64"
      ]
     },
     "execution_count": 153,
     "metadata": {},
     "output_type": "execute_result"
    }
   ],
   "source": [
    "## Input\n",
    "s = pd.Series({'Math': 6.0,  'Economy': 4.5, 'Programming': 8.5})\n",
    "#print(s-5*np.ones(3))\n",
    "s.take(np.nonzero(np.where(s>5,s,0))[0])"
   ]
  },
  {
   "cell_type": "markdown",
   "id": "8837119b",
   "metadata": {},
   "source": [
    "#### Exercise: Sort a series. Sort the series from the previous exercise in both, ascending and descendant order (★ ☆☆)\n",
    "The following methods are used to sort a series:\n",
    "\n",
    "`s.sort_values (ascending = Boolean)`: Returns the series that results from ordering the values in the series s. If the argument of the ascending parameter is True the order is increasing and if False it is decreasing.\n",
    "\n",
    "`df.sort_index (ascending = Boolean)`: Returns the series that results from sorting the index of the series s. If the argument of the ascending parameter is True the order is increasing and if it is False decreasing."
   ]
  },
  {
   "cell_type": "code",
   "execution_count": null,
   "id": "2c0d16f1",
   "metadata": {},
   "outputs": [],
   "source": []
  },
  {
   "cell_type": "markdown",
   "id": "ec788c9f",
   "metadata": {},
   "source": [
    "#### Exercise: Eliminate the unknown (`NA`) values in a series.  Drop the NAs values from the series\n",
    "Unknown data is represented in Pandas by `NaN` and `null` by `None`. Both are usually a problem when performing some data analysis, so it is common to eliminate them. To remove them from a series the following method is used:\n",
    "\n",
    "s.dropna (): Removes the unknown or null data from the s series."
   ]
  },
  {
   "cell_type": "code",
   "execution_count": null,
   "id": "0a4f919f",
   "metadata": {},
   "outputs": [],
   "source": [
    "## Input\n",
    "import pandas as pd\n",
    "import numpy as np\n",
    "s = pd.Series(['a', 'b', None, 'c', np.NaN,  'd'])"
   ]
  },
  {
   "cell_type": "markdown",
   "id": "391791e0",
   "metadata": {},
   "source": [
    "## The DataFrame object class\n",
    "\n",
    "An object of type DataFrame defines a set of data structured in the form of a table where each column is an object of type Series, that is, all the data in the same column are of the same type, and the rows are records that can contain data from Different types.\n",
    "\n",
    "A DataFrame contains two indexes, one for the rows and one for the columns, and its elements can be accessed by the names of the rows and columns.\n",
    "\n",
    "Example. The following DataFrame contains information about the students in a course. Each row corresponds to a student and each column to a variable.\n",
    "\n",
    "![alt text](./assets/df.png \"df\")\n"
   ]
  },
  {
   "cell_type": "markdown",
   "id": "7c2e563a",
   "metadata": {},
   "source": [
    "## Creating a DataFrame from a CSV or Excel file\n",
    "Depending on the type of file, there are different functions to import a DataFrame from a file.\n",
    "\n",
    "- read_csv: Returns an object of type DataFrame with the data from the CSV file file.csv using as separator of the data the string separator.\n",
    "\n",
    "- read_excel: Returns an object of type DataFrame with the data from the spreadsheet sheet of the Excel file file .xlsx."
   ]
  },
  {
   "cell_type": "markdown",
   "id": "50a54d72",
   "metadata": {},
   "source": [
    "## The Titanic dataset \n",
    "The titanica dataset is a famous and \"funny\" dataset in the area of data science. It is commonly used for beginners in order to know how to fit a machine learning model. The competition is simple: use machine learning to create a model that predicts which passengers survived the Titanic shipwreck.\n",
    "\n",
    "The dataset consists of the following variables.\n",
    "\n",
    "\n",
    "| Variable | Definition                                 | Key                                            |\n",
    "|----------|--------------------------------------------|------------------------------------------------|\n",
    "| survival | Survival                                   | 0 = No, 1 = Yes                                |\n",
    "| pclass   | Ticket class                               | 1 = 1st, 2 = 2nd, 3 = 3rd                      |\n",
    "| sex      | Sex                                        |                                                |\n",
    "| Age      | Age in years                               |                                                |\n",
    "| sibsp    | # of siblings / spouses aboard the Titanic |                                                |\n",
    "| parch    | # of parents / children aboard the Titanic |                                                |\n",
    "| ticket   | Ticket number                              |                                                |\n",
    "| fare     | Passenger fare                             |                                                |\n",
    "| cabin    | Cabin number                               |                                                |\n",
    "| embarked | Port of Embarkation                        | C = Cherbourg, Q = Queenstown, S = Southampton |\n",
    "\n",
    "\n",
    "In the following exercise you will have to get some insights about this dataset. An insight is a just derived information you can get from a dataset like the mean of age for example."
   ]
  },
  {
   "cell_type": "markdown",
   "id": "1e74d39e",
   "metadata": {},
   "source": [
    "#### Exercise: Read the data `titanic_train.csv` located in the assets folder (★☆☆)"
   ]
  },
  {
   "cell_type": "code",
   "execution_count": 10,
   "id": "3f639d33",
   "metadata": {},
   "outputs": [
    {
     "data": {
      "text/html": [
       "<div>\n",
       "<style scoped>\n",
       "    .dataframe tbody tr th:only-of-type {\n",
       "        vertical-align: middle;\n",
       "    }\n",
       "\n",
       "    .dataframe tbody tr th {\n",
       "        vertical-align: top;\n",
       "    }\n",
       "\n",
       "    .dataframe thead th {\n",
       "        text-align: right;\n",
       "    }\n",
       "</style>\n",
       "<table border=\"1\" class=\"dataframe\">\n",
       "  <thead>\n",
       "    <tr style=\"text-align: right;\">\n",
       "      <th></th>\n",
       "      <th>PassengerId</th>\n",
       "      <th>Survived</th>\n",
       "      <th>Pclass</th>\n",
       "      <th>Name</th>\n",
       "      <th>Sex</th>\n",
       "      <th>Age</th>\n",
       "      <th>SibSp</th>\n",
       "      <th>Parch</th>\n",
       "      <th>Ticket</th>\n",
       "      <th>Fare</th>\n",
       "      <th>Cabin</th>\n",
       "      <th>Embarked</th>\n",
       "    </tr>\n",
       "  </thead>\n",
       "  <tbody>\n",
       "    <tr>\n",
       "      <th>0</th>\n",
       "      <td>1</td>\n",
       "      <td>0</td>\n",
       "      <td>3</td>\n",
       "      <td>Braund, Mr. Owen Harris</td>\n",
       "      <td>male</td>\n",
       "      <td>22.0</td>\n",
       "      <td>1</td>\n",
       "      <td>0</td>\n",
       "      <td>A/5 21171</td>\n",
       "      <td>7.2500</td>\n",
       "      <td>NaN</td>\n",
       "      <td>S</td>\n",
       "    </tr>\n",
       "    <tr>\n",
       "      <th>1</th>\n",
       "      <td>2</td>\n",
       "      <td>1</td>\n",
       "      <td>1</td>\n",
       "      <td>Cumings, Mrs. John Bradley (Florence Briggs Th...</td>\n",
       "      <td>female</td>\n",
       "      <td>38.0</td>\n",
       "      <td>1</td>\n",
       "      <td>0</td>\n",
       "      <td>PC 17599</td>\n",
       "      <td>71.2833</td>\n",
       "      <td>C85</td>\n",
       "      <td>C</td>\n",
       "    </tr>\n",
       "    <tr>\n",
       "      <th>2</th>\n",
       "      <td>3</td>\n",
       "      <td>1</td>\n",
       "      <td>3</td>\n",
       "      <td>Heikkinen, Miss. Laina</td>\n",
       "      <td>female</td>\n",
       "      <td>26.0</td>\n",
       "      <td>0</td>\n",
       "      <td>0</td>\n",
       "      <td>STON/O2. 3101282</td>\n",
       "      <td>7.9250</td>\n",
       "      <td>NaN</td>\n",
       "      <td>S</td>\n",
       "    </tr>\n",
       "    <tr>\n",
       "      <th>3</th>\n",
       "      <td>4</td>\n",
       "      <td>1</td>\n",
       "      <td>1</td>\n",
       "      <td>Futrelle, Mrs. Jacques Heath (Lily May Peel)</td>\n",
       "      <td>female</td>\n",
       "      <td>35.0</td>\n",
       "      <td>1</td>\n",
       "      <td>0</td>\n",
       "      <td>113803</td>\n",
       "      <td>53.1000</td>\n",
       "      <td>C123</td>\n",
       "      <td>S</td>\n",
       "    </tr>\n",
       "    <tr>\n",
       "      <th>4</th>\n",
       "      <td>5</td>\n",
       "      <td>0</td>\n",
       "      <td>3</td>\n",
       "      <td>Allen, Mr. William Henry</td>\n",
       "      <td>male</td>\n",
       "      <td>35.0</td>\n",
       "      <td>0</td>\n",
       "      <td>0</td>\n",
       "      <td>373450</td>\n",
       "      <td>8.0500</td>\n",
       "      <td>NaN</td>\n",
       "      <td>S</td>\n",
       "    </tr>\n",
       "    <tr>\n",
       "      <th>...</th>\n",
       "      <td>...</td>\n",
       "      <td>...</td>\n",
       "      <td>...</td>\n",
       "      <td>...</td>\n",
       "      <td>...</td>\n",
       "      <td>...</td>\n",
       "      <td>...</td>\n",
       "      <td>...</td>\n",
       "      <td>...</td>\n",
       "      <td>...</td>\n",
       "      <td>...</td>\n",
       "      <td>...</td>\n",
       "    </tr>\n",
       "    <tr>\n",
       "      <th>886</th>\n",
       "      <td>887</td>\n",
       "      <td>0</td>\n",
       "      <td>2</td>\n",
       "      <td>Montvila, Rev. Juozas</td>\n",
       "      <td>male</td>\n",
       "      <td>27.0</td>\n",
       "      <td>0</td>\n",
       "      <td>0</td>\n",
       "      <td>211536</td>\n",
       "      <td>13.0000</td>\n",
       "      <td>NaN</td>\n",
       "      <td>S</td>\n",
       "    </tr>\n",
       "    <tr>\n",
       "      <th>887</th>\n",
       "      <td>888</td>\n",
       "      <td>1</td>\n",
       "      <td>1</td>\n",
       "      <td>Graham, Miss. Margaret Edith</td>\n",
       "      <td>female</td>\n",
       "      <td>19.0</td>\n",
       "      <td>0</td>\n",
       "      <td>0</td>\n",
       "      <td>112053</td>\n",
       "      <td>30.0000</td>\n",
       "      <td>B42</td>\n",
       "      <td>S</td>\n",
       "    </tr>\n",
       "    <tr>\n",
       "      <th>888</th>\n",
       "      <td>889</td>\n",
       "      <td>0</td>\n",
       "      <td>3</td>\n",
       "      <td>Johnston, Miss. Catherine Helen \"Carrie\"</td>\n",
       "      <td>female</td>\n",
       "      <td>NaN</td>\n",
       "      <td>1</td>\n",
       "      <td>2</td>\n",
       "      <td>W./C. 6607</td>\n",
       "      <td>23.4500</td>\n",
       "      <td>NaN</td>\n",
       "      <td>S</td>\n",
       "    </tr>\n",
       "    <tr>\n",
       "      <th>889</th>\n",
       "      <td>890</td>\n",
       "      <td>1</td>\n",
       "      <td>1</td>\n",
       "      <td>Behr, Mr. Karl Howell</td>\n",
       "      <td>male</td>\n",
       "      <td>26.0</td>\n",
       "      <td>0</td>\n",
       "      <td>0</td>\n",
       "      <td>111369</td>\n",
       "      <td>30.0000</td>\n",
       "      <td>C148</td>\n",
       "      <td>C</td>\n",
       "    </tr>\n",
       "    <tr>\n",
       "      <th>890</th>\n",
       "      <td>891</td>\n",
       "      <td>0</td>\n",
       "      <td>3</td>\n",
       "      <td>Dooley, Mr. Patrick</td>\n",
       "      <td>male</td>\n",
       "      <td>32.0</td>\n",
       "      <td>0</td>\n",
       "      <td>0</td>\n",
       "      <td>370376</td>\n",
       "      <td>7.7500</td>\n",
       "      <td>NaN</td>\n",
       "      <td>Q</td>\n",
       "    </tr>\n",
       "  </tbody>\n",
       "</table>\n",
       "<p>891 rows × 12 columns</p>\n",
       "</div>"
      ],
      "text/plain": [
       "     PassengerId  Survived  Pclass  \\\n",
       "0              1         0       3   \n",
       "1              2         1       1   \n",
       "2              3         1       3   \n",
       "3              4         1       1   \n",
       "4              5         0       3   \n",
       "..           ...       ...     ...   \n",
       "886          887         0       2   \n",
       "887          888         1       1   \n",
       "888          889         0       3   \n",
       "889          890         1       1   \n",
       "890          891         0       3   \n",
       "\n",
       "                                                  Name     Sex   Age  SibSp  \\\n",
       "0                              Braund, Mr. Owen Harris    male  22.0      1   \n",
       "1    Cumings, Mrs. John Bradley (Florence Briggs Th...  female  38.0      1   \n",
       "2                               Heikkinen, Miss. Laina  female  26.0      0   \n",
       "3         Futrelle, Mrs. Jacques Heath (Lily May Peel)  female  35.0      1   \n",
       "4                             Allen, Mr. William Henry    male  35.0      0   \n",
       "..                                                 ...     ...   ...    ...   \n",
       "886                              Montvila, Rev. Juozas    male  27.0      0   \n",
       "887                       Graham, Miss. Margaret Edith  female  19.0      0   \n",
       "888           Johnston, Miss. Catherine Helen \"Carrie\"  female   NaN      1   \n",
       "889                              Behr, Mr. Karl Howell    male  26.0      0   \n",
       "890                                Dooley, Mr. Patrick    male  32.0      0   \n",
       "\n",
       "     Parch            Ticket     Fare Cabin Embarked  \n",
       "0        0         A/5 21171   7.2500   NaN        S  \n",
       "1        0          PC 17599  71.2833   C85        C  \n",
       "2        0  STON/O2. 3101282   7.9250   NaN        S  \n",
       "3        0            113803  53.1000  C123        S  \n",
       "4        0            373450   8.0500   NaN        S  \n",
       "..     ...               ...      ...   ...      ...  \n",
       "886      0            211536  13.0000   NaN        S  \n",
       "887      0            112053  30.0000   B42        S  \n",
       "888      2        W./C. 6607  23.4500   NaN        S  \n",
       "889      0            111369  30.0000  C148        C  \n",
       "890      0            370376   7.7500   NaN        Q  \n",
       "\n",
       "[891 rows x 12 columns]"
      ]
     },
     "execution_count": 10,
     "metadata": {},
     "output_type": "execute_result"
    }
   ],
   "source": [
    "pd.read_csv('./assets/titanic_train.csv')\n",
    "#print(a)"
   ]
  },
  {
   "cell_type": "markdown",
   "id": "78250c14",
   "metadata": {},
   "source": [
    "#### Exercise: File export. Export the previous data frame separated by semicolon (;) and name it as \"`your_name.txt`\" (★☆☆)\n",
    "There are also functions to export a DataFrame to a file with different formats.\n",
    "\n",
    "- `df.to_csv (file.csv, sep = separator, columns = Boolean, index = Boolean)`: Exports the DataFrame df to the file file.csv in CSV format using the separator string as data separator.\n",
    "- `df.to_excel (file.xlsx, sheet_name = sheet, columns = Boolean, index = Boolean)`: Exports the DataFrame df to the spreadsheet sheet of the file file.xlsx in Excel format."
   ]
  },
  {
   "cell_type": "code",
   "execution_count": 15,
   "id": "9fe729cb",
   "metadata": {},
   "outputs": [],
   "source": [
    "a=pd.read_csv('./assets/titanic_train.csv')\n",
    "a.to_csv('ivo.txt')"
   ]
  },
  {
   "cell_type": "markdown",
   "id": "51898680",
   "metadata": {},
   "source": [
    "## Attributes of a DataFrame\n",
    "There are several properties or methods for viewing the characteristics of a DataFrame.\n",
    "\n",
    "- `df.info()`: Returns information (number of rows, number of columns, indexes, type of columns and used memory) about the DataFrame df.\n",
    "\n",
    "- `df.shape`: Returns a tuple with the number of rows and columns of the DataFrame df.\n",
    "\n",
    "- `df.size`: Returns the number of elements in the DataFrame.\n",
    "\n",
    "- `df.columns`: Returns a list with the names of the columns of the DataFrame df.\n",
    "\n",
    "- `df.index`: Returns a list with the names of the rows in the DataFrame df.\n",
    "\n",
    "- `df.dtypes`: Returns a series with the data types of the columns of the DataFrame df.\n",
    "\n",
    "- `df.head(n)`: Returns the first n rows of the DataFrame df.\n",
    "\n",
    "- `df.tail(n)`: Returns the last n rows of the DataFrame df."
   ]
  },
  {
   "cell_type": "markdown",
   "id": "89e78048",
   "metadata": {},
   "source": [
    "#### Exercise: Read the dataframe exported as \"`your_name.txt`\" and print all the previous attributes taking `n = 10` (★☆☆)"
   ]
  },
  {
   "cell_type": "code",
   "execution_count": 17,
   "id": "b62e9d1c",
   "metadata": {},
   "outputs": [
    {
     "data": {
      "text/html": [
       "<div>\n",
       "<style scoped>\n",
       "    .dataframe tbody tr th:only-of-type {\n",
       "        vertical-align: middle;\n",
       "    }\n",
       "\n",
       "    .dataframe tbody tr th {\n",
       "        vertical-align: top;\n",
       "    }\n",
       "\n",
       "    .dataframe thead th {\n",
       "        text-align: right;\n",
       "    }\n",
       "</style>\n",
       "<table border=\"1\" class=\"dataframe\">\n",
       "  <thead>\n",
       "    <tr style=\"text-align: right;\">\n",
       "      <th></th>\n",
       "      <th>Unnamed: 0</th>\n",
       "      <th>PassengerId</th>\n",
       "      <th>Survived</th>\n",
       "      <th>Pclass</th>\n",
       "      <th>Name</th>\n",
       "      <th>Sex</th>\n",
       "      <th>Age</th>\n",
       "      <th>SibSp</th>\n",
       "      <th>Parch</th>\n",
       "      <th>Ticket</th>\n",
       "      <th>Fare</th>\n",
       "      <th>Cabin</th>\n",
       "      <th>Embarked</th>\n",
       "    </tr>\n",
       "  </thead>\n",
       "  <tbody>\n",
       "    <tr>\n",
       "      <th>0</th>\n",
       "      <td>0</td>\n",
       "      <td>1</td>\n",
       "      <td>0</td>\n",
       "      <td>3</td>\n",
       "      <td>Braund, Mr. Owen Harris</td>\n",
       "      <td>male</td>\n",
       "      <td>22.0</td>\n",
       "      <td>1</td>\n",
       "      <td>0</td>\n",
       "      <td>A/5 21171</td>\n",
       "      <td>7.2500</td>\n",
       "      <td>NaN</td>\n",
       "      <td>S</td>\n",
       "    </tr>\n",
       "    <tr>\n",
       "      <th>1</th>\n",
       "      <td>1</td>\n",
       "      <td>2</td>\n",
       "      <td>1</td>\n",
       "      <td>1</td>\n",
       "      <td>Cumings, Mrs. John Bradley (Florence Briggs Th...</td>\n",
       "      <td>female</td>\n",
       "      <td>38.0</td>\n",
       "      <td>1</td>\n",
       "      <td>0</td>\n",
       "      <td>PC 17599</td>\n",
       "      <td>71.2833</td>\n",
       "      <td>C85</td>\n",
       "      <td>C</td>\n",
       "    </tr>\n",
       "    <tr>\n",
       "      <th>2</th>\n",
       "      <td>2</td>\n",
       "      <td>3</td>\n",
       "      <td>1</td>\n",
       "      <td>3</td>\n",
       "      <td>Heikkinen, Miss. Laina</td>\n",
       "      <td>female</td>\n",
       "      <td>26.0</td>\n",
       "      <td>0</td>\n",
       "      <td>0</td>\n",
       "      <td>STON/O2. 3101282</td>\n",
       "      <td>7.9250</td>\n",
       "      <td>NaN</td>\n",
       "      <td>S</td>\n",
       "    </tr>\n",
       "    <tr>\n",
       "      <th>3</th>\n",
       "      <td>3</td>\n",
       "      <td>4</td>\n",
       "      <td>1</td>\n",
       "      <td>1</td>\n",
       "      <td>Futrelle, Mrs. Jacques Heath (Lily May Peel)</td>\n",
       "      <td>female</td>\n",
       "      <td>35.0</td>\n",
       "      <td>1</td>\n",
       "      <td>0</td>\n",
       "      <td>113803</td>\n",
       "      <td>53.1000</td>\n",
       "      <td>C123</td>\n",
       "      <td>S</td>\n",
       "    </tr>\n",
       "    <tr>\n",
       "      <th>4</th>\n",
       "      <td>4</td>\n",
       "      <td>5</td>\n",
       "      <td>0</td>\n",
       "      <td>3</td>\n",
       "      <td>Allen, Mr. William Henry</td>\n",
       "      <td>male</td>\n",
       "      <td>35.0</td>\n",
       "      <td>0</td>\n",
       "      <td>0</td>\n",
       "      <td>373450</td>\n",
       "      <td>8.0500</td>\n",
       "      <td>NaN</td>\n",
       "      <td>S</td>\n",
       "    </tr>\n",
       "    <tr>\n",
       "      <th>5</th>\n",
       "      <td>5</td>\n",
       "      <td>6</td>\n",
       "      <td>0</td>\n",
       "      <td>3</td>\n",
       "      <td>Moran, Mr. James</td>\n",
       "      <td>male</td>\n",
       "      <td>NaN</td>\n",
       "      <td>0</td>\n",
       "      <td>0</td>\n",
       "      <td>330877</td>\n",
       "      <td>8.4583</td>\n",
       "      <td>NaN</td>\n",
       "      <td>Q</td>\n",
       "    </tr>\n",
       "    <tr>\n",
       "      <th>6</th>\n",
       "      <td>6</td>\n",
       "      <td>7</td>\n",
       "      <td>0</td>\n",
       "      <td>1</td>\n",
       "      <td>McCarthy, Mr. Timothy J</td>\n",
       "      <td>male</td>\n",
       "      <td>54.0</td>\n",
       "      <td>0</td>\n",
       "      <td>0</td>\n",
       "      <td>17463</td>\n",
       "      <td>51.8625</td>\n",
       "      <td>E46</td>\n",
       "      <td>S</td>\n",
       "    </tr>\n",
       "    <tr>\n",
       "      <th>7</th>\n",
       "      <td>7</td>\n",
       "      <td>8</td>\n",
       "      <td>0</td>\n",
       "      <td>3</td>\n",
       "      <td>Palsson, Master. Gosta Leonard</td>\n",
       "      <td>male</td>\n",
       "      <td>2.0</td>\n",
       "      <td>3</td>\n",
       "      <td>1</td>\n",
       "      <td>349909</td>\n",
       "      <td>21.0750</td>\n",
       "      <td>NaN</td>\n",
       "      <td>S</td>\n",
       "    </tr>\n",
       "    <tr>\n",
       "      <th>8</th>\n",
       "      <td>8</td>\n",
       "      <td>9</td>\n",
       "      <td>1</td>\n",
       "      <td>3</td>\n",
       "      <td>Johnson, Mrs. Oscar W (Elisabeth Vilhelmina Berg)</td>\n",
       "      <td>female</td>\n",
       "      <td>27.0</td>\n",
       "      <td>0</td>\n",
       "      <td>2</td>\n",
       "      <td>347742</td>\n",
       "      <td>11.1333</td>\n",
       "      <td>NaN</td>\n",
       "      <td>S</td>\n",
       "    </tr>\n",
       "    <tr>\n",
       "      <th>9</th>\n",
       "      <td>9</td>\n",
       "      <td>10</td>\n",
       "      <td>1</td>\n",
       "      <td>2</td>\n",
       "      <td>Nasser, Mrs. Nicholas (Adele Achem)</td>\n",
       "      <td>female</td>\n",
       "      <td>14.0</td>\n",
       "      <td>1</td>\n",
       "      <td>0</td>\n",
       "      <td>237736</td>\n",
       "      <td>30.0708</td>\n",
       "      <td>NaN</td>\n",
       "      <td>C</td>\n",
       "    </tr>\n",
       "  </tbody>\n",
       "</table>\n",
       "</div>"
      ],
      "text/plain": [
       "   Unnamed: 0  PassengerId  Survived  Pclass  \\\n",
       "0           0            1         0       3   \n",
       "1           1            2         1       1   \n",
       "2           2            3         1       3   \n",
       "3           3            4         1       1   \n",
       "4           4            5         0       3   \n",
       "5           5            6         0       3   \n",
       "6           6            7         0       1   \n",
       "7           7            8         0       3   \n",
       "8           8            9         1       3   \n",
       "9           9           10         1       2   \n",
       "\n",
       "                                                Name     Sex   Age  SibSp  \\\n",
       "0                            Braund, Mr. Owen Harris    male  22.0      1   \n",
       "1  Cumings, Mrs. John Bradley (Florence Briggs Th...  female  38.0      1   \n",
       "2                             Heikkinen, Miss. Laina  female  26.0      0   \n",
       "3       Futrelle, Mrs. Jacques Heath (Lily May Peel)  female  35.0      1   \n",
       "4                           Allen, Mr. William Henry    male  35.0      0   \n",
       "5                                   Moran, Mr. James    male   NaN      0   \n",
       "6                            McCarthy, Mr. Timothy J    male  54.0      0   \n",
       "7                     Palsson, Master. Gosta Leonard    male   2.0      3   \n",
       "8  Johnson, Mrs. Oscar W (Elisabeth Vilhelmina Berg)  female  27.0      0   \n",
       "9                Nasser, Mrs. Nicholas (Adele Achem)  female  14.0      1   \n",
       "\n",
       "   Parch            Ticket     Fare Cabin Embarked  \n",
       "0      0         A/5 21171   7.2500   NaN        S  \n",
       "1      0          PC 17599  71.2833   C85        C  \n",
       "2      0  STON/O2. 3101282   7.9250   NaN        S  \n",
       "3      0            113803  53.1000  C123        S  \n",
       "4      0            373450   8.0500   NaN        S  \n",
       "5      0            330877   8.4583   NaN        Q  \n",
       "6      0             17463  51.8625   E46        S  \n",
       "7      1            349909  21.0750   NaN        S  \n",
       "8      2            347742  11.1333   NaN        S  \n",
       "9      0            237736  30.0708   NaN        C  "
      ]
     },
     "execution_count": 17,
     "metadata": {},
     "output_type": "execute_result"
    }
   ],
   "source": [
    "a=pd.read_csv('ivo.txt')\n",
    "a.head(10)"
   ]
  },
  {
   "cell_type": "markdown",
   "id": "ebd10810",
   "metadata": {},
   "source": [
    "#### Exercise: Change the name of columns of the above data frame using two different methos (★★☆) \n",
    "Check the function `rename` (https://pandas.pydata.org/docs/reference/api/pandas.DataFrame.rename.html) and remember you can get the name of columns using `df.columns`"
   ]
  },
  {
   "cell_type": "code",
   "execution_count": null,
   "id": "6ada209f",
   "metadata": {},
   "outputs": [],
   "source": []
  },
  {
   "cell_type": "markdown",
   "id": "c0e940f8",
   "metadata": {},
   "source": [
    "#### Exercise: Change the index of the above data frame using two different methos (★★☆) \n",
    "Check `iloc` (https://pandas.pydata.org/docs/reference/api/pandas.DataFrame.iloc.html)"
   ]
  },
  {
   "cell_type": "code",
   "execution_count": null,
   "id": "820dc7a5",
   "metadata": {},
   "outputs": [],
   "source": []
  },
  {
   "cell_type": "markdown",
   "id": "22713c3f",
   "metadata": {},
   "source": [
    "#### Exercise: Get the position (3,5) from the dataframe `your_name.txt`  (★☆☆)"
   ]
  },
  {
   "cell_type": "code",
   "execution_count": null,
   "id": "a3e05c29",
   "metadata": {},
   "outputs": [],
   "source": []
  },
  {
   "cell_type": "markdown",
   "id": "4815930e",
   "metadata": {},
   "source": [
    "#### Exercise: Get the 10-th value from the column \"Ticket\" from the dataframe `your_name.txt`  (★☆☆)"
   ]
  },
  {
   "cell_type": "code",
   "execution_count": null,
   "id": "cd81c3c6",
   "metadata": {},
   "outputs": [],
   "source": []
  },
  {
   "cell_type": "markdown",
   "id": "8e34f294",
   "metadata": {},
   "source": [
    "#### Exercise: Add columns to a DataFrame. Create a random array and a random list and add them to the dataframe coming from  `your_name.txt` (★☆☆)\n",
    "The procedure for adding a new column to a DataFrame is similar to adding a new pair to a dictionary, but passing the column's values in a list or series."
   ]
  },
  {
   "cell_type": "code",
   "execution_count": null,
   "id": "890bde78",
   "metadata": {},
   "outputs": [],
   "source": []
  },
  {
   "cell_type": "markdown",
   "id": "759c9c8d",
   "metadata": {},
   "source": [
    "#### Exercise: Create or subset a data frame. Subset the dataframe coming from `your_name.txt` by Male registers using two different methods (★★☆)\n",
    "Remember the function `where` from `numpy`"
   ]
  },
  {
   "cell_type": "code",
   "execution_count": null,
   "id": "6801c73d",
   "metadata": {},
   "outputs": [],
   "source": []
  },
  {
   "cell_type": "markdown",
   "id": "129c342d",
   "metadata": {},
   "source": [
    "## Descriptive summary of a DataFrame\n",
    "As for strings, the following methods allow you to summarize the information in a DataFrame by columns:\n",
    "\n",
    "- `df.count()`: Returns a series number of elements that are not null or NaN in each column of the DataFrame df.\n",
    "- `df.sum()`: Returns a series with the sum of the data of the columns of the DataFrame df when the data is of a numeric type, or the concatenation of them when they are of the string type str.\n",
    "- `df.cumsum()`: Returns a DataFrame with the cumulative sum of the data in the columns of the DataFrame df when the data is of a numeric type.\n",
    "- `df.min()`: Returns a series with the minors of the data of the columns of the DataFrame df.\n",
    "- `df.max()`: Returns a series with the largest of the data in the columns of the DataFrame df.\n",
    "- `df.mean()`: Returns a series with the mean of the data in the columns of the DataFrame df when the data is of a numeric type.\n",
    "- `df.std()`: Returns a series with the standard deviations of the data in the columns of the DataFrame df when the data is of a numeric type.\n",
    "- `df.describe(include = type)`: Returns a DataFrame with a statistical summary of the columns of the DataFrame df of type type. For numerical data(number), the mean, standard deviation, minimum, maximum and quartiles of the numeric columns are calculated. For non-numeric data(object) the number of values, the number of distinct values, the mode and their frequency are calculated. If the type is not indicated, only the numeric columns are considered."
   ]
  },
  {
   "cell_type": "markdown",
   "id": "25ab9cc1",
   "metadata": {},
   "source": [
    "#### Exercise: Make a description of the dataset `your_name.txt` (★☆☆)"
   ]
  },
  {
   "cell_type": "code",
   "execution_count": null,
   "id": "8ba1badb",
   "metadata": {},
   "outputs": [],
   "source": []
  },
  {
   "cell_type": "markdown",
   "id": "42f8b2f9",
   "metadata": {},
   "source": [
    "#### Exercise: Remove the column Ticket from your dataframe (★☆☆)"
   ]
  },
  {
   "cell_type": "code",
   "execution_count": null,
   "id": "eb8ebe45",
   "metadata": {},
   "outputs": [],
   "source": []
  },
  {
   "cell_type": "markdown",
   "id": "486df8ea",
   "metadata": {},
   "source": [
    "#### Exercise: Sort the dataframe by the Age column  (★★☆)\n",
    "Check the functions `df.sort_values` and `df.sort_index`"
   ]
  },
  {
   "cell_type": "code",
   "execution_count": null,
   "id": "34b4fa08",
   "metadata": {},
   "outputs": [],
   "source": []
  },
  {
   "cell_type": "markdown",
   "id": "649e89f9",
   "metadata": {},
   "source": [
    "#### Exercise: Drop the rows of your dataframe that contain na values (★★☆)"
   ]
  },
  {
   "cell_type": "code",
   "execution_count": null,
   "id": "663cc611",
   "metadata": {},
   "outputs": [],
   "source": []
  },
  {
   "cell_type": "markdown",
   "id": "3421e17f",
   "metadata": {},
   "source": [
    "#### Exercise: Subset the rows where Age values are greater than 18 (★★☆)"
   ]
  },
  {
   "cell_type": "code",
   "execution_count": null,
   "id": "7336b8e4",
   "metadata": {},
   "outputs": [],
   "source": []
  },
  {
   "cell_type": "markdown",
   "id": "483dd554",
   "metadata": {},
   "source": [
    "#### Exercise: Subset the rows where Age values are greater than 18 and less than 5 and get the number of rows  (★★☆)"
   ]
  },
  {
   "cell_type": "code",
   "execution_count": null,
   "id": "c89b93e7",
   "metadata": {},
   "outputs": [],
   "source": []
  },
  {
   "cell_type": "markdown",
   "id": "2d07be1c",
   "metadata": {},
   "source": [
    "#### Exercise: Normalize the column Age (★★☆)\n",
    "Remember from probability (https://en.wikipedia.org/wiki/Normalization_(statistics)) that :\n",
    "\n",
    "$$ x_{norm} = \\frac{x - \\bar{x}}{\\sigma}$$"
   ]
  },
  {
   "cell_type": "code",
   "execution_count": null,
   "id": "4f7cb3ad",
   "metadata": {},
   "outputs": [],
   "source": []
  },
  {
   "cell_type": "markdown",
   "id": "fe043549",
   "metadata": {},
   "source": [
    "#### Exercise: Consider two random array A and B, check if they are equal (★★☆)"
   ]
  },
  {
   "cell_type": "code",
   "execution_count": null,
   "id": "3326a686",
   "metadata": {},
   "outputs": [],
   "source": []
  },
  {
   "cell_type": "markdown",
   "id": "2002cb03",
   "metadata": {},
   "source": [
    "#### Exercise: How to set the number of rows and columns displayed in the output? (★★★)\n",
    "Check the function `set_option` from pandas"
   ]
  },
  {
   "cell_type": "code",
   "execution_count": null,
   "id": "58be72bc",
   "metadata": {},
   "outputs": [],
   "source": []
  },
  {
   "cell_type": "markdown",
   "id": "b7109c9f",
   "metadata": {},
   "source": [
    "#### Exercise: How to join two dataframes by 2 columns so they have only the common rows? (★★★)\n",
    "Join dataframes df1 and df2 by ‘fruit-pazham’ and ‘weight-kilo’."
   ]
  },
  {
   "cell_type": "code",
   "execution_count": null,
   "id": "f79e79a7",
   "metadata": {},
   "outputs": [],
   "source": [
    "## Input\n",
    "\n",
    "df1 = pd.DataFrame({'fruit': ['apple', 'banana', 'orange'] * 3,\n",
    "                    'weight': ['high', 'medium', 'low'] * 3,\n",
    "                    'price': np.random.randint(0, 15, 9)})\n",
    "\n",
    "df2 = pd.DataFrame({'pazham': ['apple', 'orange', 'pine'] * 2,\n",
    "                    'kilo': ['high', 'low'] * 3,\n",
    "                    'price': np.random.randint(0, 15, 6)})"
   ]
  },
  {
   "cell_type": "markdown",
   "id": "fb24674c",
   "metadata": {},
   "source": [
    "#### Exercise: How to get the positions where values of two columns match? (★★★)\n",
    "Join dataframes df1 and df2 by ‘fruit-pazham’ and ‘weight-kilo’."
   ]
  },
  {
   "cell_type": "code",
   "execution_count": null,
   "id": "3e253564",
   "metadata": {},
   "outputs": [],
   "source": [
    "## Input\n",
    "df = pd.DataFrame({'fruit1': np.random.choice(['apple', 'orange', 'banana'], 10),\n",
    "                    'fruit2': np.random.choice(['apple', 'orange', 'banana'], 10)})\n"
   ]
  }
 ],
 "metadata": {
  "kernelspec": {
   "display_name": "Python 3",
   "language": "python",
   "name": "python3"
  },
  "language_info": {
   "codemirror_mode": {
    "name": "ipython",
    "version": 3
   },
   "file_extension": ".py",
   "mimetype": "text/x-python",
   "name": "python",
   "nbconvert_exporter": "python",
   "pygments_lexer": "ipython3",
   "version": "3.8.12"
  }
 },
 "nbformat": 4,
 "nbformat_minor": 5
}
