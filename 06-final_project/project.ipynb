{
 "cells": [
  {
   "cell_type": "markdown",
   "id": "bdfbcacc",
   "metadata": {},
   "source": [
    "## Final project\n",
    "\n",
    "Finally, you already have all the necessary knowledge to prepare a real dataset to later train a machine learning model, which you will learn throughout the bootcamp.\n",
    "\n",
    "It is intended that you apply all the knowledge learned with the other numpy, pandas and matplotlib notebooks and even openCV that we will delve into later.\n",
    "\n",
    "Feel free to add any additional analysis that you consider necessary and that is not raised in the questions.\n"
   ]
  },
  {
   "cell_type": "markdown",
   "id": "c4e52ee5",
   "metadata": {},
   "source": [
    "## The dataset\n",
    "\n",
    "This is a real dataset and it was downloaded using web scraping techniques. The data contains registers from fotocasa which is one of the most popular websites of real estate in Spain. Please, do not do this (web scraping) unless it is for academic purposes.\n",
    "\n",
    "The dataset was downloaded a few years ago by Henry Navarro and In no case were economic returns obtained from it.\n",
    "\n",
    "It contains thousands of data from real homes published on the web www.fotocasa.com. Your goal is to extract as much information as possible with the knowledge you have so far about data science, for example what is the most expensive home in the entire dataset?\n",
    "\n",
    "Let's start with precisely that question... Good luck!\n"
   ]
  },
  {
   "cell_type": "markdown",
   "id": "dd97255d",
   "metadata": {},
   "source": [
    "#### Read the dataset real_estate.csv and try to visualize the table (★☆☆)"
   ]
  },
  {
   "cell_type": "code",
   "execution_count": 214,
   "id": "4b93d9c8",
   "metadata": {},
   "outputs": [
    {
     "data": {
      "text/html": [
       "<div>\n",
       "<style scoped>\n",
       "    .dataframe tbody tr th:only-of-type {\n",
       "        vertical-align: middle;\n",
       "    }\n",
       "\n",
       "    .dataframe tbody tr th {\n",
       "        vertical-align: top;\n",
       "    }\n",
       "\n",
       "    .dataframe thead th {\n",
       "        text-align: right;\n",
       "    }\n",
       "</style>\n",
       "<table border=\"1\" class=\"dataframe\">\n",
       "  <thead>\n",
       "    <tr style=\"text-align: right;\">\n",
       "      <th></th>\n",
       "      <th>Unnamed: 0</th>\n",
       "      <th>id_realEstates</th>\n",
       "      <th>isNew</th>\n",
       "      <th>realEstate_name</th>\n",
       "      <th>phone_realEstate</th>\n",
       "      <th>url_inmueble</th>\n",
       "      <th>rooms</th>\n",
       "      <th>bathrooms</th>\n",
       "      <th>surface</th>\n",
       "      <th>price</th>\n",
       "      <th>...</th>\n",
       "      <th>level4Id</th>\n",
       "      <th>level5Id</th>\n",
       "      <th>level6Id</th>\n",
       "      <th>level7Id</th>\n",
       "      <th>level8Id</th>\n",
       "      <th>accuracy</th>\n",
       "      <th>latitude</th>\n",
       "      <th>longitude</th>\n",
       "      <th>zipCode</th>\n",
       "      <th>customZone</th>\n",
       "    </tr>\n",
       "  </thead>\n",
       "  <tbody>\n",
       "    <tr>\n",
       "      <th>0</th>\n",
       "      <td>1</td>\n",
       "      <td>153771986</td>\n",
       "      <td>False</td>\n",
       "      <td>ferrari 57 inmobiliaria</td>\n",
       "      <td>912177526.0</td>\n",
       "      <td>https://www.fotocasa.es/es/comprar/vivienda/ma...</td>\n",
       "      <td>3.0</td>\n",
       "      <td>2.0</td>\n",
       "      <td>103.0</td>\n",
       "      <td>195000</td>\n",
       "      <td>...</td>\n",
       "      <td>0</td>\n",
       "      <td>0</td>\n",
       "      <td>0</td>\n",
       "      <td>0</td>\n",
       "      <td>0</td>\n",
       "      <td>0</td>\n",
       "      <td>40,2948276786438</td>\n",
       "      <td>-3,44402412135624</td>\n",
       "      <td>NaN</td>\n",
       "      <td>NaN</td>\n",
       "    </tr>\n",
       "    <tr>\n",
       "      <th>1</th>\n",
       "      <td>2</td>\n",
       "      <td>153867863</td>\n",
       "      <td>False</td>\n",
       "      <td>tecnocasa fuenlabrada ferrocarril</td>\n",
       "      <td>916358736.0</td>\n",
       "      <td>https://www.fotocasa.es/es/comprar/vivienda/ma...</td>\n",
       "      <td>3.0</td>\n",
       "      <td>1.0</td>\n",
       "      <td>NaN</td>\n",
       "      <td>89000</td>\n",
       "      <td>...</td>\n",
       "      <td>0</td>\n",
       "      <td>0</td>\n",
       "      <td>0</td>\n",
       "      <td>0</td>\n",
       "      <td>0</td>\n",
       "      <td>1</td>\n",
       "      <td>40,28674</td>\n",
       "      <td>-3,79351</td>\n",
       "      <td>NaN</td>\n",
       "      <td>NaN</td>\n",
       "    </tr>\n",
       "    <tr>\n",
       "      <th>2</th>\n",
       "      <td>3</td>\n",
       "      <td>153430440</td>\n",
       "      <td>False</td>\n",
       "      <td>look find boadilla</td>\n",
       "      <td>916350408.0</td>\n",
       "      <td>https://www.fotocasa.es/es/comprar/vivienda/ma...</td>\n",
       "      <td>2.0</td>\n",
       "      <td>2.0</td>\n",
       "      <td>99.0</td>\n",
       "      <td>390000</td>\n",
       "      <td>...</td>\n",
       "      <td>0</td>\n",
       "      <td>0</td>\n",
       "      <td>0</td>\n",
       "      <td>0</td>\n",
       "      <td>0</td>\n",
       "      <td>0</td>\n",
       "      <td>40,4115646786438</td>\n",
       "      <td>-3,90662252135624</td>\n",
       "      <td>NaN</td>\n",
       "      <td>NaN</td>\n",
       "    </tr>\n",
       "    <tr>\n",
       "      <th>3</th>\n",
       "      <td>4</td>\n",
       "      <td>152776331</td>\n",
       "      <td>False</td>\n",
       "      <td>tecnocasa fuenlabrada ferrocarril</td>\n",
       "      <td>916358736.0</td>\n",
       "      <td>https://www.fotocasa.es/es/comprar/vivienda/ma...</td>\n",
       "      <td>3.0</td>\n",
       "      <td>1.0</td>\n",
       "      <td>86.0</td>\n",
       "      <td>89000</td>\n",
       "      <td>...</td>\n",
       "      <td>0</td>\n",
       "      <td>0</td>\n",
       "      <td>0</td>\n",
       "      <td>0</td>\n",
       "      <td>0</td>\n",
       "      <td>0</td>\n",
       "      <td>40,2853785786438</td>\n",
       "      <td>-3,79508142135624</td>\n",
       "      <td>NaN</td>\n",
       "      <td>NaN</td>\n",
       "    </tr>\n",
       "    <tr>\n",
       "      <th>4</th>\n",
       "      <td>5</td>\n",
       "      <td>153180188</td>\n",
       "      <td>False</td>\n",
       "      <td>ferrari 57 inmobiliaria</td>\n",
       "      <td>912177526.0</td>\n",
       "      <td>https://www.fotocasa.es/es/comprar/vivienda/ma...</td>\n",
       "      <td>2.0</td>\n",
       "      <td>2.0</td>\n",
       "      <td>106.0</td>\n",
       "      <td>172000</td>\n",
       "      <td>...</td>\n",
       "      <td>0</td>\n",
       "      <td>0</td>\n",
       "      <td>0</td>\n",
       "      <td>0</td>\n",
       "      <td>0</td>\n",
       "      <td>0</td>\n",
       "      <td>40,2998774864376</td>\n",
       "      <td>-3,45226301356237</td>\n",
       "      <td>NaN</td>\n",
       "      <td>NaN</td>\n",
       "    </tr>\n",
       "    <tr>\n",
       "      <th>...</th>\n",
       "      <td>...</td>\n",
       "      <td>...</td>\n",
       "      <td>...</td>\n",
       "      <td>...</td>\n",
       "      <td>...</td>\n",
       "      <td>...</td>\n",
       "      <td>...</td>\n",
       "      <td>...</td>\n",
       "      <td>...</td>\n",
       "      <td>...</td>\n",
       "      <td>...</td>\n",
       "      <td>...</td>\n",
       "      <td>...</td>\n",
       "      <td>...</td>\n",
       "      <td>...</td>\n",
       "      <td>...</td>\n",
       "      <td>...</td>\n",
       "      <td>...</td>\n",
       "      <td>...</td>\n",
       "      <td>...</td>\n",
       "      <td>...</td>\n",
       "    </tr>\n",
       "    <tr>\n",
       "      <th>15330</th>\n",
       "      <td>15331</td>\n",
       "      <td>153901377</td>\n",
       "      <td>False</td>\n",
       "      <td>infocasa consulting</td>\n",
       "      <td>911360461.0</td>\n",
       "      <td>https://www.fotocasa.es/es/comprar/vivienda/ma...</td>\n",
       "      <td>2.0</td>\n",
       "      <td>1.0</td>\n",
       "      <td>96.0</td>\n",
       "      <td>259470</td>\n",
       "      <td>...</td>\n",
       "      <td>0</td>\n",
       "      <td>0</td>\n",
       "      <td>0</td>\n",
       "      <td>0</td>\n",
       "      <td>0</td>\n",
       "      <td>0</td>\n",
       "      <td>40,45416</td>\n",
       "      <td>-3,70286</td>\n",
       "      <td>NaN</td>\n",
       "      <td>NaN</td>\n",
       "    </tr>\n",
       "    <tr>\n",
       "      <th>15331</th>\n",
       "      <td>15332</td>\n",
       "      <td>150394373</td>\n",
       "      <td>False</td>\n",
       "      <td>inmobiliaria pulpon</td>\n",
       "      <td>912788039.0</td>\n",
       "      <td>https://www.fotocasa.es/es/comprar/vivienda/ma...</td>\n",
       "      <td>3.0</td>\n",
       "      <td>1.0</td>\n",
       "      <td>150.0</td>\n",
       "      <td>165000</td>\n",
       "      <td>...</td>\n",
       "      <td>0</td>\n",
       "      <td>0</td>\n",
       "      <td>0</td>\n",
       "      <td>0</td>\n",
       "      <td>0</td>\n",
       "      <td>0</td>\n",
       "      <td>40,36652</td>\n",
       "      <td>-3,48951</td>\n",
       "      <td>NaN</td>\n",
       "      <td>NaN</td>\n",
       "    </tr>\n",
       "    <tr>\n",
       "      <th>15332</th>\n",
       "      <td>15333</td>\n",
       "      <td>153901397</td>\n",
       "      <td>False</td>\n",
       "      <td>tecnocasa torrelodones</td>\n",
       "      <td>912780348.0</td>\n",
       "      <td>https://www.fotocasa.es/es/comprar/vivienda/ma...</td>\n",
       "      <td>4.0</td>\n",
       "      <td>2.0</td>\n",
       "      <td>175.0</td>\n",
       "      <td>495000</td>\n",
       "      <td>...</td>\n",
       "      <td>0</td>\n",
       "      <td>0</td>\n",
       "      <td>0</td>\n",
       "      <td>0</td>\n",
       "      <td>0</td>\n",
       "      <td>0</td>\n",
       "      <td>40,57444</td>\n",
       "      <td>-3,92124</td>\n",
       "      <td>NaN</td>\n",
       "      <td>NaN</td>\n",
       "    </tr>\n",
       "    <tr>\n",
       "      <th>15333</th>\n",
       "      <td>15334</td>\n",
       "      <td>152607440</td>\n",
       "      <td>False</td>\n",
       "      <td>inmobiliaria pulpon</td>\n",
       "      <td>912788039.0</td>\n",
       "      <td>https://www.fotocasa.es/es/comprar/vivienda/ma...</td>\n",
       "      <td>3.0</td>\n",
       "      <td>2.0</td>\n",
       "      <td>101.0</td>\n",
       "      <td>195000</td>\n",
       "      <td>...</td>\n",
       "      <td>0</td>\n",
       "      <td>0</td>\n",
       "      <td>0</td>\n",
       "      <td>0</td>\n",
       "      <td>0</td>\n",
       "      <td>0</td>\n",
       "      <td>40,36967</td>\n",
       "      <td>-3,48105</td>\n",
       "      <td>NaN</td>\n",
       "      <td>NaN</td>\n",
       "    </tr>\n",
       "    <tr>\n",
       "      <th>15334</th>\n",
       "      <td>15335</td>\n",
       "      <td>153901356</td>\n",
       "      <td>False</td>\n",
       "      <td>infocasa consulting</td>\n",
       "      <td>911360461.0</td>\n",
       "      <td>https://www.fotocasa.es/es/comprar/vivienda/ma...</td>\n",
       "      <td>3.0</td>\n",
       "      <td>2.0</td>\n",
       "      <td>152.0</td>\n",
       "      <td>765000</td>\n",
       "      <td>...</td>\n",
       "      <td>0</td>\n",
       "      <td>0</td>\n",
       "      <td>0</td>\n",
       "      <td>0</td>\n",
       "      <td>0</td>\n",
       "      <td>0</td>\n",
       "      <td>40,45773</td>\n",
       "      <td>-3,69068</td>\n",
       "      <td>NaN</td>\n",
       "      <td>NaN</td>\n",
       "    </tr>\n",
       "  </tbody>\n",
       "</table>\n",
       "<p>15335 rows × 37 columns</p>\n",
       "</div>"
      ],
      "text/plain": [
       "       Unnamed: 0  id_realEstates  isNew                    realEstate_name  \\\n",
       "0               1       153771986  False            ferrari 57 inmobiliaria   \n",
       "1               2       153867863  False  tecnocasa fuenlabrada ferrocarril   \n",
       "2               3       153430440  False                 look find boadilla   \n",
       "3               4       152776331  False  tecnocasa fuenlabrada ferrocarril   \n",
       "4               5       153180188  False            ferrari 57 inmobiliaria   \n",
       "...           ...             ...    ...                                ...   \n",
       "15330       15331       153901377  False                infocasa consulting   \n",
       "15331       15332       150394373  False                inmobiliaria pulpon   \n",
       "15332       15333       153901397  False             tecnocasa torrelodones   \n",
       "15333       15334       152607440  False                inmobiliaria pulpon   \n",
       "15334       15335       153901356  False                infocasa consulting   \n",
       "\n",
       "       phone_realEstate                                       url_inmueble  \\\n",
       "0           912177526.0  https://www.fotocasa.es/es/comprar/vivienda/ma...   \n",
       "1           916358736.0  https://www.fotocasa.es/es/comprar/vivienda/ma...   \n",
       "2           916350408.0  https://www.fotocasa.es/es/comprar/vivienda/ma...   \n",
       "3           916358736.0  https://www.fotocasa.es/es/comprar/vivienda/ma...   \n",
       "4           912177526.0  https://www.fotocasa.es/es/comprar/vivienda/ma...   \n",
       "...                 ...                                                ...   \n",
       "15330       911360461.0  https://www.fotocasa.es/es/comprar/vivienda/ma...   \n",
       "15331       912788039.0  https://www.fotocasa.es/es/comprar/vivienda/ma...   \n",
       "15332       912780348.0  https://www.fotocasa.es/es/comprar/vivienda/ma...   \n",
       "15333       912788039.0  https://www.fotocasa.es/es/comprar/vivienda/ma...   \n",
       "15334       911360461.0  https://www.fotocasa.es/es/comprar/vivienda/ma...   \n",
       "\n",
       "       rooms  bathrooms  surface   price  ... level4Id level5Id level6Id  \\\n",
       "0        3.0        2.0    103.0  195000  ...        0        0        0   \n",
       "1        3.0        1.0      NaN   89000  ...        0        0        0   \n",
       "2        2.0        2.0     99.0  390000  ...        0        0        0   \n",
       "3        3.0        1.0     86.0   89000  ...        0        0        0   \n",
       "4        2.0        2.0    106.0  172000  ...        0        0        0   \n",
       "...      ...        ...      ...     ...  ...      ...      ...      ...   \n",
       "15330    2.0        1.0     96.0  259470  ...        0        0        0   \n",
       "15331    3.0        1.0    150.0  165000  ...        0        0        0   \n",
       "15332    4.0        2.0    175.0  495000  ...        0        0        0   \n",
       "15333    3.0        2.0    101.0  195000  ...        0        0        0   \n",
       "15334    3.0        2.0    152.0  765000  ...        0        0        0   \n",
       "\n",
       "      level7Id level8Id accuracy          latitude          longitude zipCode  \\\n",
       "0            0        0        0  40,2948276786438  -3,44402412135624     NaN   \n",
       "1            0        0        1          40,28674           -3,79351     NaN   \n",
       "2            0        0        0  40,4115646786438  -3,90662252135624     NaN   \n",
       "3            0        0        0  40,2853785786438  -3,79508142135624     NaN   \n",
       "4            0        0        0  40,2998774864376  -3,45226301356237     NaN   \n",
       "...        ...      ...      ...               ...                ...     ...   \n",
       "15330        0        0        0          40,45416           -3,70286     NaN   \n",
       "15331        0        0        0          40,36652           -3,48951     NaN   \n",
       "15332        0        0        0          40,57444           -3,92124     NaN   \n",
       "15333        0        0        0          40,36967           -3,48105     NaN   \n",
       "15334        0        0        0          40,45773           -3,69068     NaN   \n",
       "\n",
       "      customZone  \n",
       "0            NaN  \n",
       "1            NaN  \n",
       "2            NaN  \n",
       "3            NaN  \n",
       "4            NaN  \n",
       "...          ...  \n",
       "15330        NaN  \n",
       "15331        NaN  \n",
       "15332        NaN  \n",
       "15333        NaN  \n",
       "15334        NaN  \n",
       "\n",
       "[15335 rows x 37 columns]"
      ]
     },
     "execution_count": 214,
     "metadata": {},
     "output_type": "execute_result"
    }
   ],
   "source": [
    "import pandas as pd \n",
    "a=pd.DataFrame(pd.read_csv(\"./assets/real_estate.csv\",sep = \";\"))\n",
    "a"
   ]
  },
  {
   "cell_type": "markdown",
   "id": "40631cd6",
   "metadata": {},
   "source": [
    "#### What is the most expensive home in the dataset? (★☆☆)"
   ]
  },
  {
   "cell_type": "code",
   "execution_count": 215,
   "id": "8a758bcf",
   "metadata": {},
   "outputs": [
    {
     "data": {
      "text/plain": [
       "8500000"
      ]
     },
     "execution_count": 215,
     "metadata": {},
     "output_type": "execute_result"
    }
   ],
   "source": [
    "max(a['price'])\n",
    "#a['level3Id'][0]"
   ]
  },
  {
   "cell_type": "markdown",
   "id": "0a708990",
   "metadata": {},
   "source": [
    "#### What is cheapest home in the dataset? (★☆☆)"
   ]
  },
  {
   "cell_type": "code",
   "execution_count": 216,
   "id": "477e01f4",
   "metadata": {},
   "outputs": [
    {
     "name": "stdout",
     "output_type": "stream",
     "text": [
      "0\n"
     ]
    },
    {
     "data": {
      "text/plain": [
       "600"
      ]
     },
     "execution_count": 216,
     "metadata": {},
     "output_type": "execute_result"
    }
   ],
   "source": [
    "print(min(a['price']))\n",
    "min(a[a['price']>0]['price'])"
   ]
  },
  {
   "cell_type": "markdown",
   "id": "0b16cd77",
   "metadata": {},
   "source": [
    "#### What is the biggest and the smallest home in the dataset? (★☆☆)"
   ]
  },
  {
   "cell_type": "code",
   "execution_count": 217,
   "id": "4d9b5975",
   "metadata": {},
   "outputs": [
    {
     "name": "stdout",
     "output_type": "stream",
     "text": [
      "The biggest is habitarium inmobiliaria\n",
      "The smallest is toledo21\n"
     ]
    }
   ],
   "source": [
    "import numpy as np\n",
    "\n",
    "ls=a['surface']\n",
    "imaxx=np.where(ls==max(ls))\n",
    "iminn=np.where(ls==min(ls))\n",
    "#print(a['realEstate_name'][imaxx[0][0]])\n",
    "\n",
    "print(\"The biggest is \"+ a['realEstate_name'][imaxx[0][0]])\n",
    "print(\"The smallest is \"+ a['realEstate_name'][iminn[0][0]])"
   ]
  },
  {
   "cell_type": "markdown",
   "id": "782d4c77",
   "metadata": {},
   "source": [
    "#### How many populations (level5) the dataset contains? (★☆☆)"
   ]
  },
  {
   "cell_type": "code",
   "execution_count": 218,
   "id": "5dbe1a08",
   "metadata": {},
   "outputs": [
    {
     "data": {
      "text/plain": [
       "168"
      ]
     },
     "execution_count": 218,
     "metadata": {},
     "output_type": "execute_result"
    }
   ],
   "source": [
    "len(a['level5'].unique())"
   ]
  },
  {
   "cell_type": "markdown",
   "id": "48d48f01",
   "metadata": {},
   "source": [
    "#### Does the dataset contain NAs? (★☆☆)\n"
   ]
  },
  {
   "cell_type": "code",
   "execution_count": 219,
   "id": "3ed233e7",
   "metadata": {},
   "outputs": [],
   "source": [
    "#Yes"
   ]
  },
  {
   "cell_type": "markdown",
   "id": "4fa39382",
   "metadata": {},
   "source": [
    "#### Delete the NAs of the dataset, if applicable (★★☆)"
   ]
  },
  {
   "cell_type": "code",
   "execution_count": 220,
   "id": "c97757ec",
   "metadata": {},
   "outputs": [
    {
     "data": {
      "text/html": [
       "<div>\n",
       "<style scoped>\n",
       "    .dataframe tbody tr th:only-of-type {\n",
       "        vertical-align: middle;\n",
       "    }\n",
       "\n",
       "    .dataframe tbody tr th {\n",
       "        vertical-align: top;\n",
       "    }\n",
       "\n",
       "    .dataframe thead th {\n",
       "        text-align: right;\n",
       "    }\n",
       "</style>\n",
       "<table border=\"1\" class=\"dataframe\">\n",
       "  <thead>\n",
       "    <tr style=\"text-align: right;\">\n",
       "      <th></th>\n",
       "      <th>Unnamed: 0</th>\n",
       "      <th>id_realEstates</th>\n",
       "      <th>isNew</th>\n",
       "      <th>realEstate_name</th>\n",
       "      <th>phone_realEstate</th>\n",
       "      <th>url_inmueble</th>\n",
       "      <th>rooms</th>\n",
       "      <th>bathrooms</th>\n",
       "      <th>surface</th>\n",
       "      <th>price</th>\n",
       "      <th>...</th>\n",
       "      <th>level4Id</th>\n",
       "      <th>level5Id</th>\n",
       "      <th>level6Id</th>\n",
       "      <th>level7Id</th>\n",
       "      <th>level8Id</th>\n",
       "      <th>accuracy</th>\n",
       "      <th>latitude</th>\n",
       "      <th>longitude</th>\n",
       "      <th>zipCode</th>\n",
       "      <th>customZone</th>\n",
       "    </tr>\n",
       "  </thead>\n",
       "  <tbody>\n",
       "  </tbody>\n",
       "</table>\n",
       "<p>0 rows × 37 columns</p>\n",
       "</div>"
      ],
      "text/plain": [
       "Empty DataFrame\n",
       "Columns: [Unnamed: 0, id_realEstates, isNew, realEstate_name, phone_realEstate, url_inmueble, rooms, bathrooms, surface, price, date, description, address, country, level1, level2, level3, level4, level5, level6, level7, level8, upperLevel, countryId, level1Id, level2Id, level3Id, level4Id, level5Id, level6Id, level7Id, level8Id, accuracy, latitude, longitude, zipCode, customZone]\n",
       "Index: []\n",
       "\n",
       "[0 rows x 37 columns]"
      ]
     },
     "execution_count": 220,
     "metadata": {},
     "output_type": "execute_result"
    }
   ],
   "source": [
    "b=pd.DataFrame(pd.read_csv(\"./assets/real_estate.csv\",sep = \";\"))\n",
    "b.drop(columns=['zipCode','customZone'])\n",
    "b.dropna()\n"
   ]
  },
  {
   "cell_type": "markdown",
   "id": "0e5f76de",
   "metadata": {},
   "source": [
    "#### What is the mean of prices in the population (level5) of \"Arroyomolinos (Madrid)\"? (★★☆)"
   ]
  },
  {
   "cell_type": "code",
   "execution_count": 221,
   "id": "327f7adb",
   "metadata": {},
   "outputs": [
    {
     "data": {
      "text/plain": [
       "294541.59854014596"
      ]
     },
     "execution_count": 221,
     "metadata": {},
     "output_type": "execute_result"
    }
   ],
   "source": [
    "np.mean(a[a['level5']=='Arroyomolinos (Madrid)']['price'])"
   ]
  },
  {
   "cell_type": "markdown",
   "id": "89b548e3",
   "metadata": {},
   "source": [
    "#### Plot the histogram of prices for the population (level5) of \"Arroyomolinos (Madrid)\" and explain what you observe (★★☆)"
   ]
  },
  {
   "cell_type": "code",
   "execution_count": 222,
   "id": "2ba51bf7",
   "metadata": {},
   "outputs": [
    {
     "data": {
      "text/plain": [
       "(array([ 2.,  0.,  3., 31., 33., 33., 28.,  3.,  2.,  2.]),\n",
       " array([     0.,  58000., 116000., 174000., 232000., 290000., 348000.,\n",
       "        406000., 464000., 522000., 580000.]),\n",
       " <BarContainer object of 10 artists>)"
      ]
     },
     "execution_count": 222,
     "metadata": {},
     "output_type": "execute_result"
    },
    {
     "data": {
      "image/png": "[encoded data removed]",
      "text/plain": [
       "<Figure size 432x288 with 1 Axes>"
      ]
     },
     "metadata": {
      "needs_background": "light"
     },
     "output_type": "display_data"
    }
   ],
   "source": [
    "import matplotlib.pyplot as plt\n",
    "l=a[a['level5']=='Arroyomolinos (Madrid)']['price']\n",
    "plt.hist(l)\n",
    "\n",
    "#The histogram is fairly symmetric.The majority of home prices are between 174-406k. Once we have a huge sample the median is aprox equal to the mean\n",
    "#print(np.median(l))"
   ]
  },
  {
   "cell_type": "markdown",
   "id": "c86dc493",
   "metadata": {},
   "source": [
    "#### Now let's work with the \"south belt\" of madrid. Make a subsetting that contains the following populations (level5): \"Fuenlabrada\",\"Leganés\",\"Getafe\",\"Alcorcón\" (★★☆) "
   ]
  },
  {
   "cell_type": "code",
   "execution_count": 223,
   "id": "5280d0cb",
   "metadata": {},
   "outputs": [],
   "source": [
    "fuen=a[a['level5']=='Fuenlabrada']\n",
    "lega=a[a['level5']=='Leganés']\n",
    "geta=a[a['level5']=='Getafe']\n",
    "alco=a[a['level5']=='Alcorcón']"
   ]
  },
  {
   "cell_type": "markdown",
   "id": "090a6a3e",
   "metadata": {},
   "source": [
    "#### Make a bar plot of the median of prices (★★★) "
   ]
  },
  {
   "cell_type": "code",
   "execution_count": 224,
   "id": "68aec11c",
   "metadata": {},
   "outputs": [
    {
     "data": {
      "text/plain": [
       "<BarContainer object of 4 artists>"
      ]
     },
     "execution_count": 224,
     "metadata": {},
     "output_type": "execute_result"
    },
    {
     "data": {
      "image/png": "[encoded data removed]",
      "text/plain": [
       "<Figure size 720x360 with 1 Axes>"
      ]
     },
     "metadata": {
      "needs_background": "light"
     },
     "output_type": "display_data"
    }
   ],
   "source": [
    "mpfuen=np.median(fuen['price'])\n",
    "mplega=np.median(lega['price'])\n",
    "mpgeta=np.median(geta['price'])\n",
    "mpalco=np.median(alco['price'])\n",
    "x=['fuenlabrada','leganés','getafe','alcorcón']\n",
    "y=[mpfuen,mplega,mpgeta,mpalco]\n",
    "\n",
    "fig = plt.figure(figsize = (10, 5))\n",
    "plt.bar(x, y, color ='maroon',\n",
    "        width = 0.4)"
   ]
  },
  {
   "cell_type": "markdown",
   "id": "18f67373",
   "metadata": {},
   "source": [
    "#### Calculate the sample mean and variance of the variables: price, rooms, surface area and bathrooms (★★★) "
   ]
  },
  {
   "cell_type": "code",
   "execution_count": 225,
   "id": "8d068061",
   "metadata": {},
   "outputs": [],
   "source": [
    "#price\n",
    "price=[fuen['price'],lega['price'],geta['price'],alco['price']]\n",
    "mean_price=[]\n",
    "var_price=[]\n",
    "for k in price:\n",
    "    mean_price.append(np.mean(k))\n",
    "    var_price.append(np.var(k))\n",
    "\n",
    "\n",
    "#rooms\n",
    "rooms=[fuen['rooms'],lega['rooms'],geta['rooms'],alco['rooms']]\n",
    "mean_rooms=[]\n",
    "var_rooms=[]\n",
    "for k in rooms:\n",
    "    mean_rooms.append(np.mean(k))\n",
    "    var_rooms.append(np.var(k))\n",
    "\n",
    "#surface_area\n",
    "surface=[fuen['surface'],lega['surface'],geta['surface'],alco['surface']]\n",
    "mean_surface=[]\n",
    "var_surface=[]\n",
    "for k in surface:\n",
    "    mean_surface.append(np.mean(k))\n",
    "    var_surface.append(np.var(k))\n",
    "\n",
    "#bathrooms\n",
    "bathrooms=[fuen['bathrooms'],lega['bathrooms'],geta['bathrooms'],alco['bathrooms']]\n",
    "mean_bathrooms=[]\n",
    "var_bathrooms=[]\n",
    "for k in price:\n",
    "    mean_bathrooms.append(np.mean(k))\n",
    "    var_bathrooms.append(np.var(k))\n"
   ]
  },
  {
   "cell_type": "markdown",
   "id": "95cfde61",
   "metadata": {},
   "source": [
    "#### What is the most expensive home of each population? (★★☆) "
   ]
  },
  {
   "cell_type": "code",
   "execution_count": 226,
   "id": "1c29f78c",
   "metadata": {},
   "outputs": [
    {
     "name": "stdout",
     "output_type": "stream",
     "text": [
      "[11561    153660921\n",
      "Name: id_realEstates, dtype: int64, 10412    152251506\n",
      "Name: id_realEstates, dtype: int64, 2881    151105544\n",
      "Name: id_realEstates, dtype: int64, 5585    153275915\n",
      "Name: id_realEstates, dtype: int64]\n"
     ]
    }
   ],
   "source": [
    "#pfuen=fuen['price']\n",
    "#plega=lega['price']\n",
    "#pgeta=geta['price']\n",
    "#palco=alco['price']\n",
    "#lista_index=list(map(lambda x: np.where(x==max(x))[0][0],[pfuen,plega,pgeta,palco]))\n",
    "lista_casas_mais_caras_index=[]\n",
    "for k in [fuen,lega,geta,alco]:\n",
    "    j=k[k['price']==max(k['price'])]['id_realEstates']\n",
    "    lista_casas_mais_caras_index.append(j)\n",
    "print(lista_casas_mais_caras_index)\n",
    "\n",
    "    "
   ]
  },
  {
   "cell_type": "markdown",
   "id": "ea67579b",
   "metadata": {},
   "source": [
    "#### Normalize the variable of prices for each population and plot the 4 histograms in the same plot (★★★) "
   ]
  },
  {
   "cell_type": "code",
   "execution_count": 227,
   "id": "385ad99c",
   "metadata": {},
   "outputs": [
    {
     "data": {
      "image/png": "[encoded data removed]",
      "text/plain": [
       "<Figure size 432x288 with 1 Axes>"
      ]
     },
     "metadata": {
      "needs_background": "light"
     },
     "output_type": "display_data"
    }
   ],
   "source": [
    "pnfuen=(fuen['price']-np.nanmean(fuen['price']))/np.nanstd(fuen['price'])\n",
    "pnlega=(lega['price']-np.nanmean(lega['price']))/np.nanstd(lega['price'])\n",
    "pngeta=(geta['price']-np.nanmean(geta['price']))/np.nanstd(geta['price'])\n",
    "pnalco=(alco['price']-np.nanmean(alco['price']))/np.nanstd(alco['price'])\n",
    "\n",
    "plt.hist([pnfuen,pnlega,pngeta,pnalco])\n",
    "plt.show()\n",
    "\n"
   ]
  },
  {
   "cell_type": "markdown",
   "id": "2ec1bd5c",
   "metadata": {},
   "source": [
    "#### Make a plot of the coordinates (lat and long) of the south belt of Madrid by color of each population (★★★★) \n",
    "This is a extremely hard exercise and we highly recommend to do it at the end of everything"
   ]
  },
  {
   "cell_type": "code",
   "execution_count": 228,
   "id": "312aac99",
   "metadata": {},
   "outputs": [
    {
     "data": {
      "application/vnd.jupyter.widget-view+json": {
       "model_id": "affb555275e948249ca5ed1694a6898c",
       "version_major": 2,
       "version_minor": 0
      },
      "text/plain": [
       "Map(center=[40.4167, -3.70325], controls=(ZoomControl(options=['position', 'zoom_in_text', 'zoom_in_title', 'z…"
      ]
     },
     "metadata": {},
     "output_type": "display_data"
    }
   ],
   "source": [
    "# Run in console the following command before run the rest of code:\n",
    "# jupyter nbextension enable --py --sys-prefix ipyleaflet\n",
    "\n",
    "from ipyleaflet import Map, basemaps,Marker\n",
    "\n",
    "# Map centred on (60 degrees latitude et -2.2 degrees longitude)\n",
    "# Latitude, longitude\n",
    "map = Map(center = (40.4167,  -3.70325), zoom = 7, min_zoom = 1, max_zoom = 20, \n",
    "    basemap=basemaps.Stamen.Terrain)\n",
    "map"
   ]
  },
  {
   "cell_type": "code",
   "execution_count": 256,
   "id": "f7931ec0",
   "metadata": {},
   "outputs": [
    {
     "data": {
      "application/vnd.jupyter.widget-view+json": {
       "model_id": "dac6bd7ae6c845aa80d3faeef9662a18",
       "version_major": 2,
       "version_minor": 0
      },
      "text/plain": [
       "Map(center=[40.4167, -3.70325], controls=(ZoomControl(options=['position', 'zoom_in_text', 'zoom_in_title', 'z…"
      ]
     },
     "metadata": {},
     "output_type": "display_data"
    }
   ],
   "source": [
    "from ipyleaflet import Map, Marker, AwesomeIcon\n",
    "\n",
    "center = (40.4167,  -3.70325)\n",
    "m = Map(center=center, zoom=10)\n",
    "\n",
    "marker = Marker(location=center, draggable=False)\n",
    "m.add_layer(marker);\n",
    "\n",
    "cfuen=fuen.iloc[:,-4:-2]\n",
    "clega=lega.iloc[:,-4:-2]\n",
    "cgeta=geta.iloc[:,-4:-2]\n",
    "calco=alco.iloc[:,-4:-2]\n",
    "\n",
    "icon1 = AwesomeIcon(\n",
    "    name='circle',\n",
    "    marker_color='red',\n",
    "    icon_color='blue',\n",
    "    spin=False\n",
    ")\n",
    "\n",
    "icon2= AwesomeIcon(\n",
    "    name='circle',\n",
    "    marker_color='red',\n",
    "    icon_color='red',\n",
    "    spin=False\n",
    ")\n",
    "\n",
    "icon3= AwesomeIcon(\n",
    "    name='circle',\n",
    "    marker_color='red',\n",
    "    icon_color='green',\n",
    "    spin=False\n",
    ")\n",
    "\n",
    "icon4= AwesomeIcon(\n",
    "    name='circle',\n",
    "    marker_color='red',\n",
    "    icon_color='yellow',\n",
    "    spin=False\n",
    ")\n",
    "\n",
    "for k in range(len(cfuen)):\n",
    "    marker = Marker(icon=icon1,location=(float(cfuen.iloc[k,][0].replace(\",\",\".\")),float(cfuen.iloc[k,][1].replace(\",\",\".\"))), draggable=False)\n",
    "    m.add_layer(marker)\n",
    "\n",
    "for k in range(len(clega)):\n",
    "    marker = Marker(icon=icon2,location=(float(clega.iloc[k,][0].replace(\",\",\".\")),float(clega.iloc[k,][1].replace(\",\",\".\"))), draggable=False)\n",
    "    m.add_layer(marker)\n",
    "\n",
    "for k in range(len(cgeta)):\n",
    "    marker = Marker(icon=icon3,location=(float(cgeta.iloc[k,][0].replace(\",\",\".\")),float(cgeta.iloc[k,][1].replace(\",\",\".\"))), draggable=False)\n",
    "    m.add_layer(marker)\n",
    "\n",
    "for k in range(len(calco)):\n",
    "    marker = Marker(icon=icon4,location=(float(calco.iloc[k,][0].replace(\",\",\".\")),float(calco.iloc[k,][1].replace(\",\",\".\"))), draggable=False)\n",
    "    m.add_layer(marker)\n",
    "m\n",
    "\n"
   ]
  },
  {
   "cell_type": "markdown",
   "id": "b22874b7",
   "metadata": {},
   "source": [
    "#### What can you say about the price per square meter between the towns of Getafe and Alcorcón?"
   ]
  },
  {
   "cell_type": "code",
   "execution_count": 230,
   "id": "e0ef506b",
   "metadata": {},
   "outputs": [
    {
     "data": {
      "text/plain": [
       "2385.717404355182"
      ]
     },
     "execution_count": 230,
     "metadata": {},
     "output_type": "execute_result"
    }
   ],
   "source": [
    "np.sum(geta['price'])/np.sum(geta['surface'])\n",
    "np.sum(alco['price'])/np.sum(alco['surface'])\n",
    "# o preço médio por metro quadrado é mais alto  na cidade de Getafe que na cidade de Alcorcón"
   ]
  },
  {
   "cell_type": "markdown",
   "id": "a4376b3f",
   "metadata": {},
   "source": [
    "#### Reload the data, is the average of \"Valdemorillo\" and \"Galapagar\" prices the same?"
   ]
  },
  {
   "cell_type": "code",
   "execution_count": 231,
   "id": "37dbaf65",
   "metadata": {},
   "outputs": [
    {
     "data": {
      "text/plain": [
       "[363860.2931034483, 360063.20238095237]"
      ]
     },
     "execution_count": 231,
     "metadata": {},
     "output_type": "execute_result"
    }
   ],
   "source": [
    "valde=a[a['level5']=='Valdemorillo']\n",
    "galap=a[a['level5']=='Galapagar']\n",
    "[np.nanmean(valde['price']),np.nanmean(galap['price'])]\n",
    "#They are almost the same, although the average price of a home in Valdemorillo is a bit higher"
   ]
  },
  {
   "cell_type": "markdown",
   "id": "b6af45ec",
   "metadata": {},
   "source": [
    "#### What happens if we do the same analysis for price/m2 (★★☆) "
   ]
  },
  {
   "cell_type": "code",
   "execution_count": 232,
   "id": "8231d73e",
   "metadata": {},
   "outputs": [
    {
     "data": {
      "text/plain": [
       "[1137.6150611826856, 1319.9488958715197]"
      ]
     },
     "execution_count": 232,
     "metadata": {},
     "output_type": "execute_result"
    }
   ],
   "source": [
    "[np.sum(valde['price'])/np.sum(valde['surface']),np.sum(galap['price'])/np.sum(galap['surface'])]\n",
    "#The mean price per square meter is shorter in Valdemorillo. It can be justified as the homes there, might be bigger"
   ]
  },
  {
   "cell_type": "markdown",
   "id": "2d40e202",
   "metadata": {},
   "source": [
    "#### Could you say there is a relation between surface and price? (★★☆) \n",
    "Hint: make a scatter plot."
   ]
  },
  {
   "cell_type": "code",
   "execution_count": null,
   "id": "405462e1",
   "metadata": {},
   "outputs": [],
   "source": []
  },
  {
   "cell_type": "markdown",
   "id": "3275db77",
   "metadata": {},
   "source": [
    "#### Make the same plot for 4 different populations (level5) and rearrange them on the same graph? (★★☆) \n",
    "Hint: make a scatter plot of each population using subplots."
   ]
  },
  {
   "cell_type": "code",
   "execution_count": null,
   "id": "e08292ff",
   "metadata": {},
   "outputs": [],
   "source": []
  },
  {
   "cell_type": "markdown",
   "id": "522c6bd9",
   "metadata": {},
   "source": [
    "#### How many  real estate agencies the dataset contains? (★★☆) "
   ]
  },
  {
   "cell_type": "code",
   "execution_count": 233,
   "id": "014ec6c8",
   "metadata": {},
   "outputs": [
    {
     "data": {
      "text/plain": [
       "1822"
      ]
     },
     "execution_count": 233,
     "metadata": {},
     "output_type": "execute_result"
    }
   ],
   "source": [
    "len(a['realEstate_name'].unique())"
   ]
  },
  {
   "cell_type": "markdown",
   "id": "899a101e",
   "metadata": {},
   "source": [
    "#### What is the population (level 5) that contains the most houses? (★★☆) "
   ]
  },
  {
   "cell_type": "code",
   "execution_count": 234,
   "id": "9e8b34ba",
   "metadata": {},
   "outputs": [
    {
     "data": {
      "text/plain": [
       "' Madrid Capital'"
      ]
     },
     "execution_count": 234,
     "metadata": {},
     "output_type": "execute_result"
    }
   ],
   "source": [
    "po=a['level5'].unique()\n",
    "num_casas=[]\n",
    "for k in po:\n",
    "    num_casas.append(len(a[a['level5']==k]))\n",
    "jmax=num_casas.index(max(num_casas))\n",
    "po[jmax]"
   ]
  },
  {
   "cell_type": "markdown",
   "id": "aa6a4e3f",
   "metadata": {},
   "source": [
    "# Good luck! and remember, if you need something, please email us! "
   ]
  },
  {
   "cell_type": "code",
   "execution_count": null,
   "id": "b3061e51",
   "metadata": {},
   "outputs": [],
   "source": []
  }
 ],
 "metadata": {
  "kernelspec": {
   "display_name": "Python 3",
   "language": "python",
   "name": "python3"
  },
  "language_info": {
   "codemirror_mode": {
    "name": "ipython",
    "version": 3
   },
   "file_extension": ".py",
   "mimetype": "text/x-python",
   "name": "python",
   "nbconvert_exporter": "python",
   "pygments_lexer": "ipython3",
   "version": "3.8.12"
  }
 },
 "nbformat": 4,
 "nbformat_minor": 5
}
